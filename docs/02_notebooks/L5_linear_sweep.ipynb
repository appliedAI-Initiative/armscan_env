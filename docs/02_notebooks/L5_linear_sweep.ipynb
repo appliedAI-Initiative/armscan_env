{
 "cells": [
  {
   "cell_type": "code",
   "execution_count": null,
   "id": "a4e98c0276b6012d",
   "metadata": {},
   "outputs": [],
   "source": [
    "%load_ext autoreload\n",
    "%autoreload 2"
   ]
  },
  {
   "cell_type": "code",
   "execution_count": null,
   "id": "50b440b37fd9414b",
   "metadata": {},
   "outputs": [],
   "source": [
    "import matplotlib.pyplot as plt\n",
    "import numpy as np\n",
    "import SimpleITK as sitk\n",
    "from armscan_env.config import get_config\n",
    "from armscan_env.envs.base import EnvRollout\n",
    "from armscan_env.envs.labelmaps_navigation import (\n",
    "    LabelmapClusteringBasedReward,\n",
    "    LabelmapEnv,\n",
    "    LabelmapEnvTerminationCriterion,\n",
    ")\n",
    "from armscan_env.envs.observations import LabelmapSliceAsChannelsObservation\n",
    "from tqdm import tqdm\n",
    "\n",
    "config = get_config()"
   ]
  },
  {
   "cell_type": "markdown",
   "id": "88415eb119bd928d",
   "metadata": {},
   "source": [
    "# The scanning sub-problem in fewer dimensions"
   ]
  },
  {
   "cell_type": "code",
   "execution_count": null,
   "id": "9ed46c7b",
   "metadata": {},
   "outputs": [],
   "source": [
    "def walk_through_env(\n",
    "    env: LabelmapEnv,\n",
    "    n_steps: int = 100,\n",
    "    reset: bool = True,\n",
    "    show_pbar: bool = True,\n",
    "    render_title: str = \"Labelmap slice\",\n",
    ") -> EnvRollout:\n",
    "    env_rollout = EnvRollout()\n",
    "\n",
    "    if reset:\n",
    "        obs, info = env.reset()\n",
    "        env.render(title=render_title)\n",
    "\n",
    "        # add initial state to the rollout\n",
    "        reward = env.compute_cur_reward()\n",
    "        terminated = env.should_terminate()\n",
    "        truncated = env.should_truncate()\n",
    "        env_rollout.append_reset(\n",
    "            obs,\n",
    "            info,\n",
    "            reward=reward,\n",
    "            terminated=terminated,\n",
    "            truncated=truncated,\n",
    "        )\n",
    "\n",
    "    env_is_1d = env.action_space.shape == (1,)\n",
    "\n",
    "    y_lower_bound = -1 if env_is_1d else env.translation_bounds[0]\n",
    "    y_upper_bound = 1 if env_is_1d else env.translation_bounds[1]\n",
    "\n",
    "    y_actions = np.linspace(y_lower_bound, y_upper_bound, n_steps)\n",
    "    if show_pbar:\n",
    "        y_actions = tqdm(y_actions, desc=\"Step:\")\n",
    "\n",
    "    print(f\"Walking through y-axis from {y_lower_bound} to {y_upper_bound} in {n_steps} steps\")\n",
    "    for y_action in y_actions:\n",
    "        if not env_is_1d:\n",
    "            cur_y_action = env.get_optimal_action()\n",
    "            cur_y_action.translation = (cur_y_action.translation[0], y_action)\n",
    "        else:\n",
    "            # projected environment\n",
    "            cur_y_action = np.array([y_action])\n",
    "        obs, reward, terminated, truncated, info = env.step(cur_y_action)\n",
    "\n",
    "        env_rollout.append_step(cur_y_action, obs, reward, terminated, truncated, info)\n",
    "        env.render(title=render_title)\n",
    "    return env_rollout\n",
    "\n",
    "\n",
    "def plot_rollout_rewards(env_rollout: EnvRollout, show: bool = True):\n",
    "    plt.plot(env_rollout.rewards)\n",
    "\n",
    "    steps_where_terminated = np.where(env_rollout.terminated)[0]\n",
    "    # mark the steps where the environment was terminated with a red transparent rectangle\n",
    "    # and add a legend that red means terminated\n",
    "    for step in steps_where_terminated:\n",
    "        plt.axvspan(step - 0.5, step + 0.5, color=\"red\", alpha=0.5)\n",
    "\n",
    "    plt.xlabel(\"Step\")\n",
    "    plt.ylabel(\"Reward\")\n",
    "    \n",
    "    plt.legend([\"Reward\", \"Terminated\"])\n",
    "    \n",
    "    if show:\n",
    "        plt.show()\n"
   ]
  },
  {
   "cell_type": "code",
   "execution_count": null,
   "id": "da45ed45bb7b8f3b",
   "metadata": {},
   "outputs": [],
   "source": [
    "volume_1 = sitk.ReadImage(config.get_labels_path(1))\n",
    "volume_2 = sitk.ReadImage(config.get_labels_path(2))\n",
    "img_array_1 = sitk.GetArrayFromImage(volume_1)\n",
    "img_array_2 = sitk.GetArrayFromImage(volume_2)"
   ]
  },
  {
   "cell_type": "code",
   "execution_count": null,
   "id": "63dd92db3829d7db",
   "metadata": {},
   "outputs": [],
   "source": [
    "volume_size = volume_1.GetSize()\n",
    "\n",
    "env = LabelmapEnv(\n",
    "    name2volume={\"1\": volume_1},\n",
    "    observation=LabelmapSliceAsChannelsObservation(\n",
    "        slice_shape=(volume_size[0], volume_size[2]),\n",
    "        action_shape=(4,),\n",
    "    ),\n",
    "    slice_shape=(volume_size[0], volume_size[2]),\n",
    "    reward_metric=LabelmapClusteringBasedReward(),\n",
    "    termination_criterion=LabelmapEnvTerminationCriterion(),\n",
    "    max_episode_len=10,\n",
    "    rotation_bounds=(30.0, 10.0),\n",
    "    translation_bounds=(0.0, None),\n",
    "    render_mode=\"animation\",\n",
    ")"
   ]
  },
  {
   "cell_type": "code",
   "execution_count": null,
   "id": "16a139f61aaafd19",
   "metadata": {},
   "outputs": [],
   "source": [
    "env_rollout = walk_through_env(env, 100)\n",
    "\n",
    "plot_rollout_rewards(env_rollout)\n"
   ]
  },
  {
   "cell_type": "code",
   "execution_count": null,
   "id": "6cdf855cc85a743a",
   "metadata": {},
   "outputs": [],
   "source": [
    "env.get_cur_animation_as_html()"
   ]
  },
  {
   "cell_type": "code",
   "execution_count": null,
   "id": "519dde5f1cea8a5f",
   "metadata": {},
   "outputs": [],
   "source": [
    "volume_size = volume_1.GetSize()\n",
    "\n",
    "projected_env = LabelmapEnv(\n",
    "    name2volume={\"1\": volume_1},\n",
    "    observation=LabelmapSliceAsChannelsObservation(\n",
    "        slice_shape=(volume_size[0], volume_size[2]),\n",
    "        action_shape=(4,),\n",
    "    ),\n",
    "    slice_shape=(volume_size[0], volume_size[2]),\n",
    "    reward_metric=LabelmapClusteringBasedReward(),\n",
    "    termination_criterion=LabelmapEnvTerminationCriterion(),\n",
    "    max_episode_len=10,\n",
    "    rotation_bounds=(30.0, 10.0),\n",
    "    translation_bounds=(0.0, None),\n",
    "    render_mode=\"animation\",\n",
    "    project_actions_to=\"y\",\n",
    ")"
   ]
  },
  {
   "cell_type": "code",
   "execution_count": null,
   "id": "22877ab71fed2eb0",
   "metadata": {},
   "outputs": [],
   "source": [
    "projected_env_rollout = walk_through_env(projected_env, 100, render_title=\"Projected labelmap slice\")\n",
    "plot_rollout_rewards(projected_env_rollout)"
   ]
  },
  {
   "cell_type": "code",
   "execution_count": null,
   "id": "6ada94c94fe77de0",
   "metadata": {},
   "outputs": [],
   "source": [
    "projected_env.get_cur_animation_as_html()"
   ]
  },
  {
   "cell_type": "code",
   "execution_count": null,
   "id": "49fcecf1",
   "metadata": {},
   "outputs": [],
   "source": []
  }
 ],
 "metadata": {
  "kernelspec": {
   "display_name": "Python 3",
   "language": "python",
   "name": "python3"
  },
  "language_info": {
   "codemirror_mode": {
    "name": "ipython",
    "version": 3
   },
   "file_extension": ".py",
   "mimetype": "text/x-python",
   "name": "python",
   "nbconvert_exporter": "python",
   "pygments_lexer": "ipython3",
   "version": "3.11.4"
  }
 },
 "nbformat": 4,
 "nbformat_minor": 5
}
