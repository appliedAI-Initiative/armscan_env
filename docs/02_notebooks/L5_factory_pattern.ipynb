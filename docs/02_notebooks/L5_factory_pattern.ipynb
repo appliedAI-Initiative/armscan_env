{
 "cells": [
  {
   "cell_type": "markdown",
   "id": "a529c2307396e1c1",
   "metadata": {},
   "source": [
    "# Factory Pattern\n",
    "\n",
    "Build a convolutional neural network that takes the labelmap slice and its reward as an input. The slice is preprocessed in 3 channels, where each channel represents a binary mask of a different label. The network should output the action to take."
   ]
  },
  {
   "cell_type": "code",
   "execution_count": null,
   "id": "a4f413c4b4439e7b",
   "metadata": {},
   "outputs": [],
   "source": [
    "import os\n",
    "\n",
    "import SimpleITK as sitk\n",
    "from armscan_env.envs.labelmaps_navigation import (\n",
    "    LabelmapClusteringBasedReward,\n",
    "    LabelmapSliceAsChannelsObservation,\n",
    ")\n",
    "from armscan_env.wrapper import ActorFactoryArmscanDQN, ArmscanEnvFactory\n",
    "from tianshou.highlevel.config import SamplingConfig\n",
    "from tianshou.highlevel.experiment import ExperimentConfig, PPOExperimentBuilder\n",
    "from tianshou.highlevel.params.dist_fn import (\n",
    "    DistributionFunctionFactoryIndependentGaussians,\n",
    ")\n",
    "from tianshou.highlevel.params.policy_params import PPOParams\n",
    "from tianshou.utils.logging import datetime_tag"
   ]
  },
  {
   "cell_type": "code",
   "execution_count": null,
   "id": "5e7fe8d996453cf2",
   "metadata": {},
   "outputs": [],
   "source": [
    "path_to_labels_1 = os.path.join(\"../..\", \"data\", \"labels\", \"00001_labels.nii\")\n",
    "volume_1 = sitk.ReadImage(path_to_labels_1)\n",
    "path_to_labels_2 = os.path.join(\"../..\", \"data\", \"labels\", \"00002_labels.nii\")\n",
    "volume_2 = sitk.ReadImage(path_to_labels_2)"
   ]
  },
  {
   "cell_type": "code",
   "execution_count": null,
   "id": "70ceba685c906297",
   "metadata": {},
   "outputs": [],
   "source": [
    "log_name = os.path.join(\"ppo\", str(ExperimentConfig.seed), datetime_tag())\n",
    "experiment_config = ExperimentConfig()\n",
    "\n",
    "sampling_config = SamplingConfig(\n",
    "    num_epochs=10,\n",
    "    step_per_epoch=1000,\n",
    "    batch_size=25,\n",
    "    num_train_envs=10,\n",
    "    num_test_envs=10,\n",
    "    buffer_size=1000,\n",
    "    step_per_collect=100,\n",
    "    repeat_per_collect=4,\n",
    ")\n",
    "\n",
    "volume_size = volume_1.GetSize()\n",
    "env_factory = ArmscanEnvFactory(\n",
    "    name2volume={\"1\": volume_1, \"2\": volume_2},\n",
    "    reward_metric=LabelmapClusteringBasedReward(),\n",
    "    observation=LabelmapSliceAsChannelsObservation(slice_shape=(volume_size[2], volume_size[0])),\n",
    "    slice_shape=(volume_size[0], volume_size[2]),\n",
    "    termination_criterion=None,\n",
    "    max_episode_len=10,\n",
    "    angle_bounds=(90.0, 45.0),\n",
    "    translation_bounds=(0.0, None),\n",
    "    render_mode=\"animation\",\n",
    "    seed=experiment_config.seed,\n",
    ")\n",
    "\n",
    "builder = (\n",
    "    PPOExperimentBuilder(env_factory, experiment_config, sampling_config)\n",
    "    .with_ppo_params(\n",
    "        PPOParams(\n",
    "            discount_factor=0.99,\n",
    "            gae_lambda=0.95,\n",
    "            action_bound_method=\"clip\",\n",
    "            reward_normalization=False,\n",
    "            ent_coef=0.01,\n",
    "            vf_coef=0.25,\n",
    "            max_grad_norm=0.5,\n",
    "            value_clip=False,\n",
    "            advantage_normalization=True,\n",
    "            eps_clip=0.2,\n",
    "            dual_clip=None,\n",
    "            recompute_advantage=False,\n",
    "            lr=2.5e-4,\n",
    "            dist_fn=DistributionFunctionFactoryIndependentGaussians(),\n",
    "        ),\n",
    "    )\n",
    "    .with_actor_factory(ActorFactoryArmscanDQN(features_only=True, output_dim_added_layer=(512)))\n",
    "    .with_critic_factory_use_actor()\n",
    ")\n",
    "experiment = builder.build()\n",
    "experiment.run(log_name)"
   ]
  },
  {
   "cell_type": "code",
   "execution_count": null,
   "id": "b9b030520c21cbb0",
   "metadata": {},
   "outputs": [],
   "source": []
  }
 ],
 "metadata": {
  "kernelspec": {
   "display_name": "Python 3",
   "language": "python",
   "name": "python3"
  },
  "language_info": {
   "codemirror_mode": {
    "name": "ipython",
    "version": 2
   },
   "file_extension": ".py",
   "mimetype": "text/x-python",
   "name": "python",
   "nbconvert_exporter": "python",
   "pygments_lexer": "ipython2",
   "version": "2.7.6"
  }
 },
 "nbformat": 4,
 "nbformat_minor": 5
}
