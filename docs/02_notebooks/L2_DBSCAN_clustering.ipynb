{
 "cells": [
  {
   "cell_type": "markdown",
   "metadata": {},
   "source": [
    "# DBSCAN Clustering Search"
   ]
  },
  {
   "cell_type": "code",
   "execution_count": null,
   "metadata": {
    "tags": [
     "remove-cell"
    ]
   },
   "outputs": [],
   "source": [
    "%load_ext autoreload\n",
    "%autoreload 2"
   ]
  },
  {
   "cell_type": "code",
   "execution_count": null,
   "metadata": {
    "tags": [
     "hide-cell"
    ]
   },
   "outputs": [],
   "source": [
    "import matplotlib.pyplot as plt\n",
    "import numpy as np\n",
    "import SimpleITK as sitk\n",
    "from armscan_env.clustering import (\n",
    "    TissueClusters,\n",
    "    TissueLabel,\n",
    "    find_DBSCAN_clusters,\n",
    ")\n",
    "from armscan_env.envs.rewards import anatomy_based_rwd\n",
    "from armscan_env.util.visualizations import show_clusters\n",
    "\n",
    "from config import get_config\n",
    "\n",
    "config = get_config()"
   ]
  },
  {
   "cell_type": "code",
   "execution_count": null,
   "metadata": {},
   "outputs": [],
   "source": [
    "path_to_mri = config.get_labels_path(1)\n",
    "mri_1_label = sitk.ReadImage(path_to_mri)\n",
    "mri_1_label_data = sitk.GetArrayFromImage(mri_1_label)\n",
    "print(f\"{mri_1_label_data.shape=}\")"
   ]
  },
  {
   "cell_type": "code",
   "execution_count": null,
   "metadata": {},
   "outputs": [],
   "source": [
    "tissues = {\n",
    "    \"bones\": 1,\n",
    "    \"tendons\": 2,\n",
    "    \"ulnar\": 3,\n",
    "}"
   ]
  },
  {
   "cell_type": "markdown",
   "metadata": {},
   "source": [
    "DBSCAN might be a better clustering technique that offers more flexibility. It works by defining clusters as continuous regions of high density. It groups together points that are closely packed together (points with many nearby neighbors), marking as outliers points that lie alone in low-density regions (whose nearest neighbors are too far away). The DBSCAN algorithm has two parameters: `min_samples` and `eps`. The `min_samples` parameter specifies the minimum number of points that a cluster must have in order to be considered a cluster. The `eps` parameter specifies the maximum distance between two samples for one to be considered as in the neighborhood of the other."
   ]
  },
  {
   "cell_type": "code",
   "execution_count": null,
   "metadata": {},
   "outputs": [],
   "source": [
    "clusters_680 = TissueClusters(\n",
    "    bones=find_DBSCAN_clusters(\n",
    "        TissueLabel.BONES,\n",
    "        mri_1_label_data[:, 680, :],\n",
    "        eps=4.1,\n",
    "        min_samples=46,\n",
    "    ),\n",
    "    tendons=find_DBSCAN_clusters(\n",
    "        TissueLabel.TENDONS,\n",
    "        mri_1_label_data[:, 680, :],\n",
    "        eps=3.0,\n",
    "        min_samples=18,\n",
    "    ),\n",
    "    ulnar=find_DBSCAN_clusters(\n",
    "        TissueLabel.ULNAR,\n",
    "        mri_1_label_data[:, 680, :],\n",
    "        eps=2.0,\n",
    "        min_samples=10,\n",
    "    ),\n",
    ")\n",
    "\n",
    "show_clusters(clusters_680, mri_1_label_data[:, 680, :])\n",
    "plt.show()"
   ]
  },
  {
   "cell_type": "code",
   "execution_count": null,
   "metadata": {
    "tags": [
     "hide-output"
    ]
   },
   "outputs": [],
   "source": [
    "sweep_loss = []\n",
    "clusters_list = []\n",
    "\n",
    "for i in range(mri_1_label_data.shape[1]):\n",
    "    clusters = TissueClusters(\n",
    "        bones=find_DBSCAN_clusters(\n",
    "            TissueLabel.BONES,\n",
    "            mri_1_label_data[:, i, :],\n",
    "            eps=4.1,\n",
    "            min_samples=46,\n",
    "        ),\n",
    "        tendons=find_DBSCAN_clusters(\n",
    "            TissueLabel.TENDONS,\n",
    "            mri_1_label_data[:, i, :],\n",
    "            eps=3.0,\n",
    "            min_samples=18,\n",
    "        ),\n",
    "        ulnar=find_DBSCAN_clusters(\n",
    "            TissueLabel.ULNAR,\n",
    "            mri_1_label_data[:, i, :],\n",
    "            eps=2.0,\n",
    "            min_samples=10,\n",
    "        ),\n",
    "    )\n",
    "    loss = anatomy_based_rwd(clusters, n_landmarks=[7, 3, 1])\n",
    "    clusters_list.append(clusters)\n",
    "    print(f\"Loss for slice {i}: {loss}\")\n",
    "    sweep_loss.append(loss)"
   ]
  },
  {
   "cell_type": "code",
   "execution_count": null,
   "metadata": {
    "tags": [
     "hide-input"
    ]
   },
   "outputs": [],
   "source": [
    "# Plot the loss results over the length of the data\n",
    "plt.plot(range(len(sweep_loss)), sweep_loss, marker=\"o\")\n",
    "\n",
    "# Add labels and title\n",
    "plt.xlabel(\"Data Length\")\n",
    "plt.ylabel(\"Loss\")\n",
    "plt.title(\"Loss Function Results\")\n",
    "\n",
    "# Show the plot\n",
    "plt.show()"
   ]
  },
  {
   "cell_type": "code",
   "execution_count": null,
   "metadata": {},
   "outputs": [],
   "source": [
    "# Find the max reward and show the slice for it\n",
    "max_loss_idx = np.argmax(sweep_loss)\n",
    "print(f\"Minimum loss: {sweep_loss[max_loss_idx]} at index {max_loss_idx}\")\n",
    "fig, ax = plt.subplots(1, 2, figsize=(14, 7))\n",
    "show_clusters(clusters_list[max_loss_idx], mri_1_label_data[:, max_loss_idx, :], aspect=6, ax=ax[0])\n",
    "ax[1].imshow(mri_1_label_data[:, max_loss_idx, :], aspect=6, origin=\"lower\")\n",
    "plt.show()"
   ]
  },
  {
   "cell_type": "markdown",
   "metadata": {},
   "source": [
    "In general, this algorithm offers a better anatomical description, since it allows to reason about the average dimension of the clusters for each kind of tissue, removing possible outliers given by segmentation errors."
   ]
  },
  {
   "cell_type": "code",
   "execution_count": null,
   "metadata": {},
   "outputs": [],
   "source": [
    "zero_loss_indices = np.where(np.array(sweep_loss) == 0)[0]\n",
    "print(f\"{len(zero_loss_indices)} indices return a zero loss: \", zero_loss_indices)\n",
    "\n",
    "fig, axes = plt.subplots(2, 4, figsize=(21, 7))\n",
    "axes = axes.flatten()\n",
    "for i, idx in enumerate(zero_loss_indices):\n",
    "    axes[i] = show_clusters(\n",
    "        tissue_clusters=clusters_list[idx],\n",
    "        slice=mri_1_label_data[:, idx, :],\n",
    "        aspect=6,\n",
    "        ax=axes[i],\n",
    "    )\n",
    "    axes[i].set_title(f\"Index: {idx}, Loss: {sweep_loss[idx]:.2f}\")\n",
    "\n",
    "plt.show()"
   ]
  },
  {
   "cell_type": "markdown",
   "metadata": {},
   "source": [
    "You can play around with the parameter of DBSCAN to find the best tuning, or you can use the constructor `TissueClusters.from_labelmap_slice` which iterates through the tissues to find clusters with predetermined parameters `eps` and `min_samples`."
   ]
  },
  {
   "cell_type": "code",
   "execution_count": null,
   "metadata": {
    "tags": [
     "hide-output"
    ]
   },
   "outputs": [],
   "source": [
    "sweep_loss = []\n",
    "zero_loss_clusters = []\n",
    "\n",
    "for i in range(mri_1_label_data.shape[1]):\n",
    "    clusters = TissueClusters.from_labelmap_slice(mri_1_label_data[:, i, :])\n",
    "    loss = anatomy_based_rwd(clusters, n_landmarks=[7, 2, 1])\n",
    "    if loss == 0:\n",
    "        zero_loss_clusters.append(clusters)\n",
    "    print(f\"Loss for slice {i}: {loss}\")\n",
    "    sweep_loss.append(loss)"
   ]
  },
  {
   "cell_type": "code",
   "execution_count": null,
   "metadata": {
    "tags": [
     "hide-input"
    ]
   },
   "outputs": [],
   "source": [
    "plt.plot(range(len(sweep_loss)), sweep_loss, marker=\"o\")\n",
    "plt.xlabel(\"Data Length\")\n",
    "plt.ylabel(\"Loss\")\n",
    "plt.title(\"Loss Function Results\")\n",
    "\n",
    "plt.show()"
   ]
  },
  {
   "cell_type": "code",
   "execution_count": null,
   "metadata": {},
   "outputs": [],
   "source": [
    "# Find the max reward and show the slice for it\n",
    "max_loss_idx = np.argmax(sweep_loss)\n",
    "print(f\"Minimum loss: {sweep_loss[max_loss_idx]} at index {max_loss_idx}\")\n",
    "fig, ax = plt.subplots(1, 2, figsize=(14, 7))\n",
    "show_clusters(clusters_list[max_loss_idx], mri_1_label_data[:, max_loss_idx, :], aspect=6, ax=ax[0])\n",
    "ax[1].imshow(mri_1_label_data[:, max_loss_idx, :], aspect=6, origin=\"lower\")\n",
    "plt.show()"
   ]
  },
  {
   "cell_type": "code",
   "execution_count": null,
   "metadata": {},
   "outputs": [],
   "source": [
    "zero_loss_indices = np.where(np.array(sweep_loss) == 0)[0]\n",
    "print(f\"{len(zero_loss_indices)} indices return a zero loss: \", zero_loss_indices)\n",
    "\n",
    "fig, axes = plt.subplots(2, 4, figsize=(21, 7))\n",
    "axes = axes.flatten()\n",
    "for i, idx in enumerate(zero_loss_indices):\n",
    "    axes[i] = show_clusters(\n",
    "        tissue_clusters=zero_loss_clusters[i],\n",
    "        slice=mri_1_label_data[:, idx, :],\n",
    "        aspect=6,\n",
    "        ax=axes[i],\n",
    "    )\n",
    "    axes[i].set_title(f\"Index: {idx}, Loss: {sweep_loss[idx]:.2f}\")\n",
    "\n",
    "plt.show()"
   ]
  }
 ],
 "metadata": {
  "kernelspec": {
   "display_name": "med_im",
   "language": "python",
   "name": "python3"
  },
  "language_info": {
   "codemirror_mode": {
    "name": "ipython",
    "version": 3
   },
   "file_extension": ".py",
   "mimetype": "text/x-python",
   "name": "python",
   "nbconvert_exporter": "python",
   "pygments_lexer": "ipython3",
   "version": "3.9.18"
  }
 },
 "nbformat": 4,
 "nbformat_minor": 2
}
