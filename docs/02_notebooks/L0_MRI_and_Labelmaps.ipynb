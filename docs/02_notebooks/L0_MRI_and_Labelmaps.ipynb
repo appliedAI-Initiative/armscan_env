{
 "cells": [
  {
   "cell_type": "markdown",
   "metadata": {},
   "source": "# Visualization of MRI Data and Labelmaps"
  },
  {
   "cell_type": "markdown",
   "metadata": {},
   "source": [
    "This notebook contains a tutorial for visualizing medical images, in particular MRI data and Labelmaps. For this purpose we are going to use the library [SimpleITK](https://github.com/SimpleITK/SimpleITK)."
   ]
  },
  {
   "cell_type": "code",
   "execution_count": null,
   "metadata": {
    "tags": [
     "hide-cell"
    ]
   },
   "outputs": [],
   "source": [
    "%load_ext autoreload\n",
    "%autoreload 2"
   ]
  },
  {
   "cell_type": "code",
   "execution_count": null,
   "metadata": {},
   "outputs": [],
   "source": [
    "import matplotlib.pyplot as plt\n",
    "import numpy as np\n",
    "import SimpleITK as sitk\n",
    "from armscan_env.config import get_config\n",
    "\n",
    "config = get_config()"
   ]
  },
  {
   "cell_type": "markdown",
   "metadata": {},
   "source": [
    "## Dataset visualization"
   ]
  },
  {
   "cell_type": "markdown",
   "metadata": {},
   "source": "The MRI 3D images are saved as NifTi files under \"data/mri\" and the label-maps are saved as NifTi files under \"data/labelmaps\". To load them, we have implemented a config file that retrieves the path of the files, by just specifying their index. The images are loaded through the [SimpleITK](https://simpleitk.readthedocs.io/en/master/) library, which allows us to easily manipulate them. In order to visualize the images, we convert them to numpy arrays using the `sitk.GetArrayFromImage` function. It is important to note that the shape of the data changes when transformed from a SimpleITK image to a numpy array. The original shape of the image is (x, y, z), but the numpy array has the shape (z, y, x). This is important to keep in mind when indexing the array. The origin of the image is also important, as it defines the position of the image in the 3D space."
  },
  {
   "cell_type": "code",
   "execution_count": null,
   "metadata": {},
   "outputs": [],
   "source": [
    "mri_volume = sitk.ReadImage(config.get_single_mri_path(1))\n",
    "mri_img = sitk.GetArrayFromImage(mri_volume)\n",
    "print(f\"{mri_volume.GetSize()=}\")\n",
    "print(f\"{mri_img.shape=}\")"
   ]
  },
  {
   "cell_type": "markdown",
   "metadata": {},
   "source": [
    "The size of the array corresponds to the number of images stacked per dimension. The images are stacked along all three dimensions: frontal, longitudinal and transversal. The space between one image and the next is constant for each dimension, and it is stored in the `spacing` attribute of the SimpleITK image in millimeters. Multiplying the spacing by the size of the array gives the total size of the MRI volume in millimeters."
   ]
  },
  {
   "cell_type": "code",
   "execution_count": null,
   "metadata": {},
   "outputs": [],
   "source": [
    "print(f\"{mri_volume.GetSpacing()=}\")\n",
    "size = np.array(mri_volume.GetSize()) * np.array(mri_volume.GetSpacing())\n",
    "print(f\"{size=} mm\")"
   ]
  },
  {
   "cell_type": "markdown",
   "metadata": {},
   "source": [
    "In order to display the images in the right dimensions, we need to set the extent of the images."
   ]
  },
  {
   "cell_type": "code",
   "execution_count": null,
   "metadata": {},
   "outputs": [],
   "source": [
    "transversal_extent = (0, size[0], 0, size[2])\n",
    "longitudinal_extent = (0, size[1], 0, size[2])\n",
    "frontal_extent = (0, size[0], size[1], 0)"
   ]
  },
  {
   "cell_type": "markdown",
   "metadata": {},
   "source": [
    "We will use the `show_slices` function to visualize the slices of the MRI data. Since we are interested in the transversal view of the hand, the function displays the images stored in the second dimension of the array."
   ]
  },
  {
   "cell_type": "code",
   "execution_count": null,
   "metadata": {},
   "outputs": [],
   "source": [
    "from armscan_env.util.visualizations import show_slices\n",
    "\n",
    "show_slices(\n",
    "    data=mri_img,\n",
    "    start=mri_img.shape[1] - 1,\n",
    "    end=25,\n",
    "    lap=5,\n",
    "    extent=transversal_extent,\n",
    "    cmap=\"gray\",\n",
    ")\n",
    "plt.show()"
   ]
  },
  {
   "cell_type": "markdown",
   "metadata": {},
   "source": [
    "## Labelmaps dataset"
   ]
  },
  {
   "cell_type": "markdown",
   "metadata": {},
   "source": [
    "Next we will load the labelmaps data, which is also saved in the NIfTI format. The labelmaps have been created by manually segmenting the relevant tissues in the MRI data. The segmentation has been performed using [ImFusion](https://www.imfusion.com/). The labelmaps are saved in the same coordinate system as the MRI data, and have the same size and spacing. Since they are saved in the same way as the MRI images, we can use the same functions to load and visualize them."
   ]
  },
  {
   "cell_type": "code",
   "execution_count": null,
   "metadata": {},
   "outputs": [],
   "source": [
    "mri_1_label = sitk.ReadImage(config.get_single_labelmap_path(1))\n",
    "mri_1_label_data = sitk.GetArrayFromImage(mri_1_label)\n",
    "print(f\"{mri_1_label_data.shape =}\")"
   ]
  },
  {
   "cell_type": "markdown",
   "metadata": {},
   "source": [
    "What is shown in the images, are the labeled tissues, hence bones, tendons, median nerve and ulnar artery."
   ]
  },
  {
   "cell_type": "code",
   "execution_count": null,
   "metadata": {},
   "outputs": [],
   "source": [
    "show_slices(\n",
    "    data=mri_1_label_data,\n",
    "    start=mri_1_label_data.shape[1] - 1,\n",
    "    end=25,\n",
    "    lap=5,\n",
    "    extent=transversal_extent,\n",
    ")\n",
    "plt.show()"
   ]
  },
  {
   "cell_type": "markdown",
   "metadata": {},
   "source": [
    "The labels are saved in the array as integers. Each voxel is assigned a label according to the following mapping:\n",
    "- 0: background\n",
    "- 1: bones\n",
    "- 2: tendons\n",
    "- 3: ulnar artery\n",
    "- 4: median nerve"
   ]
  },
  {
   "cell_type": "code",
   "execution_count": null,
   "metadata": {},
   "outputs": [],
   "source": [
    "print(\"Max value in mri labeled data: \", np.max(mri_1_label_data))\n",
    "print(\"Max value in mri data: \", np.max(mri_img))"
   ]
  }
 ],
 "metadata": {
  "kernelspec": {
   "display_name": "med_im",
   "language": "python",
   "name": "python3"
  },
  "language_info": {
   "codemirror_mode": {
    "name": "ipython",
    "version": 3
   },
   "file_extension": ".py",
   "mimetype": "text/x-python",
   "name": "python",
   "nbconvert_exporter": "python",
   "pygments_lexer": "ipython3",
   "version": "3.9.18"
  }
 },
 "nbformat": 4,
 "nbformat_minor": 2
}
