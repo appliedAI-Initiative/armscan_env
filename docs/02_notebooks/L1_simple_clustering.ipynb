{
 "cells": [
  {
   "cell_type": "markdown",
   "metadata": {},
   "source": [
    "# Simple Clustering and Linear Sweep Search"
   ]
  },
  {
   "cell_type": "code",
   "execution_count": null,
   "metadata": {
    "tags": [
     "remove-cell"
    ]
   },
   "outputs": [],
   "source": [
    "%load_ext autoreload\n",
    "%autoreload 2"
   ]
  },
  {
   "cell_type": "code",
   "execution_count": null,
   "metadata": {
    "tags": [
     "hide-cell"
    ]
   },
   "outputs": [],
   "source": [
    "import matplotlib.pyplot as plt\n",
    "import numpy as np\n",
    "import SimpleITK as sitk\n",
    "from armscan_env.config import get_config\n",
    "from armscan_env.util.visualizations import show_slices\n",
    "\n",
    "config = get_config()"
   ]
  },
  {
   "cell_type": "markdown",
   "metadata": {},
   "source": [
    "Load the dataset"
   ]
  },
  {
   "cell_type": "code",
   "execution_count": null,
   "metadata": {},
   "outputs": [],
   "source": [
    "mri_1_label = sitk.ReadImage(config.get_labels_path(1))\n",
    "mri_1_label_data = sitk.GetArrayFromImage(mri_1_label)\n",
    "print(f\"{mri_1_label_data.shape=}\")"
   ]
  },
  {
   "cell_type": "markdown",
   "metadata": {},
   "source": [
    "In this notebook, we are going to explain the process of searching the carpal tunnel along one axis using a simple clustering algorithm. The first step is to visualize the data to understand the anatomy of the hand at the level of the carpal tunnel. We will then use a simple clustering algorithm to identify the number of features present in each image. Based on the number of features and their relative positions, we will be able to identify the carpal tunnel, basing on its anatomical description.\n",
    "\n",
    "Since we are not changing the orientation of the slices along the hand, we are bound to a sub-optimal visualization along the axis on which the images have been stacked. This is not exactly transversal to the carpal tunnel, so our anatomical description will be relative to this suboptimal orientation. However, we can still demonstrate that the anatomical description of the region of interest is enough to optimize the navigation.\n",
    "\n",
    "The following images are slices in proximity of the carpal tunnel area."
   ]
  },
  {
   "cell_type": "code",
   "execution_count": null,
   "metadata": {},
   "outputs": [],
   "source": [
    "show_slices(data=mri_1_label_data, start=690, end=20, lap=1)\n",
    "plt.show()"
   ]
  },
  {
   "cell_type": "markdown",
   "metadata": {},
   "source": [
    "The values of the labels are going to be used to identify the clusters of tissues and reason about the anatomy seen in the image."
   ]
  },
  {
   "cell_type": "code",
   "execution_count": null,
   "metadata": {},
   "outputs": [],
   "source": [
    "tissues = {\n",
    "    \"bones\": 1,\n",
    "    \"tendons\": 2,\n",
    "    \"ulnar\": 3,\n",
    "}"
   ]
  },
  {
   "cell_type": "markdown",
   "metadata": {},
   "source": [
    "The function `cluster_iter` is going to be used to identify the clusters of tissues in the image. It iterates over the tissues in the dictionary and identifies the clusters of each tissue. The clustering algorithm uses a center-symmetric filter to identify clusters of neighboring pixels with the same value. The algorithm is based on the `label` function from the `scipy.ndimage` package. The function returns a dictionary with the clusters of tissues and the center of each of them."
   ]
  },
  {
   "cell_type": "code",
   "execution_count": null,
   "metadata": {},
   "outputs": [],
   "source": [
    "from armscan_env.clustering import cluster_iter\n",
    "from armscan_env.util.visualizations import show_clusters\n",
    "\n",
    "clusters_679 = cluster_iter(tissues, mri_1_label_data[:, 679, :].T)\n",
    "show_clusters(clusters_679, mri_1_label_data[:, 679, :].T)\n",
    "plt.show()"
   ]
  },
  {
   "cell_type": "markdown",
   "metadata": {},
   "source": [
    "Visualizing slices of the hand at different levels, is going to make clear why it is enough to reason about the anatomy of one slice to identify the region of interest. "
   ]
  },
  {
   "cell_type": "code",
   "execution_count": null,
   "metadata": {
    "tags": [
     "hide-input"
    ]
   },
   "outputs": [],
   "source": [
    "# Create a figure and a gridspec with two rows and two columns\n",
    "fig = plt.figure(constrained_layout=True, figsize=(12, 6))\n",
    "gs = fig.add_gridspec(2, 3)\n",
    "\n",
    "# Add subplots\n",
    "ax1 = fig.add_subplot(gs[:, 0])\n",
    "ax2 = fig.add_subplot(gs[0, 1])\n",
    "ax3 = fig.add_subplot(gs[0, 2])\n",
    "ax4 = fig.add_subplot(gs[1, 1])\n",
    "ax5 = fig.add_subplot(gs[1, 2])\n",
    "\n",
    "\n",
    "ax1.axhline(y=418, color=\"red\", linestyle=\"--\", label=f\"Horizontal Line at y={418}\")\n",
    "ax1.axhline(y=601, color=\"red\", linestyle=\"--\", label=f\"Horizontal Line at y={601}\")\n",
    "ax1.axhline(y=679, color=\"red\", linestyle=\"--\", label=f\"Horizontal Line at y={679}\")\n",
    "ax1.axhline(y=739, color=\"red\", linestyle=\"--\", label=f\"Horizontal Line at y={739}\")\n",
    "ax1.imshow(mri_1_label_data[35, :, :], label=\"Hand\")\n",
    "ax1.legend()\n",
    "\n",
    "clusters_418 = cluster_iter(tissues, mri_1_label_data[:, 418, :].T)\n",
    "show_clusters(clusters_418, mri_1_label_data[:, 418, :].T, ax2)\n",
    "ax2.set_title(\"Slice 418\")\n",
    "\n",
    "cluster_601 = cluster_iter(tissues, mri_1_label_data[:, 601, :].T)\n",
    "show_clusters(cluster_601, mri_1_label_data[:, 601, :].T, ax3)\n",
    "ax3.set_title(\"Slice 601\")\n",
    "\n",
    "show_clusters(clusters_679, mri_1_label_data[:, 679, :].T, ax4)\n",
    "ax4.set_title(\"Slice 679\")\n",
    "\n",
    "cluster_739 = cluster_iter(tissues, mri_1_label_data[:, 739, :].T)\n",
    "show_clusters(cluster_739, mri_1_label_data[:, 739, :].T, ax5)\n",
    "ax5.set_title(\"Slice 739\")\n",
    "\n",
    "plt.show()"
   ]
  },
  {
   "cell_type": "markdown",
   "metadata": {},
   "source": [
    "The clustering algorithm does not just give us information about the number of tissues clusters, but also about their position. Hence, it is possible to reason about the orientation of the image and the relation of the tissues to one another."
   ]
  },
  {
   "cell_type": "code",
   "execution_count": null,
   "metadata": {},
   "outputs": [],
   "source": [
    "clusters_679 = cluster_iter(tissues, mri_1_label_data[:, 679, :].T)\n",
    "\n",
    "bones_centers = [cluster.center for _, cluster in enumerate(clusters_679.bones)]\n",
    "ligament_centers = [cluster.center for _, cluster in enumerate(clusters_679.tendons)]\n",
    "\n",
    "bones_center = np.mean(bones_centers, axis=0)\n",
    "print(\"bones_center: \", bones_center)\n",
    "ligament_center = np.mean(ligament_centers, axis=0)\n",
    "print(\"ligament_center: \", ligament_center)\n",
    "ulnar_center = clusters_679.ulnar[0].center\n",
    "print(\"ulnar_center: \", ulnar_center)"
   ]
  },
  {
   "cell_type": "markdown",
   "metadata": {},
   "source": [
    "The function `anatomy_based_rwd` calculates the score of each image. This offers an observable reward, which can be used to optimize the navigation problem with classical search methods as well as with RL algorithms. The score is based on the number of clusters recognized for each tissue, which should be equal to the `n_landmarks` parameter. If some of the tissues are not present at all, this is more hardly penalized, because it means that the navigation is far off. Moreover, the score takes into account the position of the landmarks: in particular it checks whether the ulnar artery lies underneath the tendons clusters or not. The score is then normalized to sum up to one.\n",
    "\n",
    "We tuned the score function to our sub-optimal region of interest: it returns a zero loss for the slice showing the described anatomical conformation."
   ]
  },
  {
   "cell_type": "code",
   "execution_count": null,
   "metadata": {},
   "outputs": [],
   "source": [
    "from armscan_env.envs.rewards import anatomy_based_rwd\n",
    "\n",
    "anatomy_based_rwd(clusters_679, n_landmarks=[7, 5, 1])"
   ]
  },
  {
   "cell_type": "markdown",
   "metadata": {},
   "source": [
    "Performing a linear sweep search along the axis of the hand, we can identify the optimal region that returns a zero loss. We can also see that the loss converges to zero as we approach the optimal region."
   ]
  },
  {
   "cell_type": "code",
   "execution_count": null,
   "metadata": {
    "tags": [
     "hide-output"
    ]
   },
   "outputs": [],
   "source": [
    "sweep_loss = []\n",
    "zero_loss_clusters = []\n",
    "\n",
    "for i in range(mri_1_label_data.shape[1]):\n",
    "    clusters = cluster_iter(tissues, mri_1_label_data[:, i, :].T)\n",
    "    loss = anatomy_based_rwd(clusters, n_landmarks=[7, 5, 1])\n",
    "    sweep_loss.append(loss)\n",
    "    if loss == 0:\n",
    "        zero_loss_clusters.append(clusters)\n",
    "    print(f\"Loss for slice {i}: {sweep_loss[i]}\")"
   ]
  },
  {
   "cell_type": "code",
   "execution_count": null,
   "metadata": {
    "tags": [
     "hide-input"
    ]
   },
   "outputs": [],
   "source": [
    "plt.plot(range(len(sweep_loss)), sweep_loss, marker=\"o\")\n",
    "\n",
    "plt.xlabel(\"Data Length\")\n",
    "plt.ylabel(\"Loss\")\n",
    "plt.title(\"Loss Function Results\")\n",
    "\n",
    "plt.show()"
   ]
  },
  {
   "cell_type": "markdown",
   "metadata": {},
   "source": [
    "We can visualize the slices that return a zero loss to check whether this approach is valid."
   ]
  },
  {
   "cell_type": "code",
   "execution_count": null,
   "metadata": {},
   "outputs": [],
   "source": [
    "zero_loss_indices = np.where(np.array(sweep_loss) == 0)[0]\n",
    "print(f\"{len(zero_loss_indices)} indices return a zero loss: \", zero_loss_indices)\n",
    "\n",
    "fig, axes = plt.subplots(1, 4, figsize=(21, 6))\n",
    "axes = axes.flatten()\n",
    "for i, idx in enumerate(zero_loss_indices):\n",
    "    axes[i] = show_clusters(\n",
    "        tissue_clusters=zero_loss_clusters[i],\n",
    "        slice=mri_1_label_data[:, idx, :].T,\n",
    "        ax=axes[i],\n",
    "    )\n",
    "    axes[i].set_title(f\"Index: {idx}, Loss: {sweep_loss[idx]:.2f}\")\n",
    "\n",
    "plt.show()"
   ]
  },
  {
   "cell_type": "markdown",
   "metadata": {},
   "source": [
    "As we can see, the results are quite promising, but the clustering algorithm is not really identifying the clusters robustly. In the next notebook, we will show the performance using a different clustering algorithm."
   ]
  }
 ],
 "metadata": {
  "kernelspec": {
   "display_name": "Python 3 (ipykernel)",
   "language": "python",
   "name": "python3"
  },
  "language_info": {
   "codemirror_mode": {
    "name": "ipython",
    "version": 3
   },
   "file_extension": ".py",
   "mimetype": "text/x-python",
   "name": "python",
   "nbconvert_exporter": "python",
   "pygments_lexer": "ipython3",
   "version": "3.11.9"
  }
 },
 "nbformat": 4,
 "nbformat_minor": 4
}
