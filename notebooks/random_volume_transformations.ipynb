{
 "cells": [
  {
   "cell_type": "code",
   "execution_count": null,
   "id": "60c69d9345beb9d0",
   "metadata": {},
   "outputs": [],
   "source": [
    "%load_ext autoreload\n",
    "%autoreload 2"
   ]
  },
  {
   "cell_type": "code",
   "execution_count": null,
   "id": "bf5c60e86d1e8e19",
   "metadata": {},
   "outputs": [],
   "source": [
    "import matplotlib.pyplot as plt\n",
    "import numpy as np\n",
    "import SimpleITK as sitk\n",
    "from armscan_env import config\n",
    "from armscan_env.clustering import TissueClusters\n",
    "from armscan_env.envs.rewards import anatomy_based_rwd\n",
    "from armscan_env.envs.state_action import ManipulatorAction\n",
    "from armscan_env.util.visualizations import show_clusters\n",
    "from armscan_env.volumes.slicing import (\n",
    "    create_transformed_volume,\n",
    "    get_volume_slice,\n",
    ")\n",
    "\n",
    "config = config.get_config()"
   ]
  },
  {
   "cell_type": "code",
   "execution_count": null,
   "id": "58c3c50872ffca22",
   "metadata": {},
   "outputs": [],
   "source": [
    "volume = sitk.ReadImage(config.get_labels_path(1))\n",
    "volume_img = sitk.GetArrayFromImage(volume)\n",
    "\n",
    "x_size, y_size, z_size = (\n",
    "    sz * sp for sz, sp in zip(volume.GetSize(), volume.GetSpacing(), strict=True)\n",
    ")\n",
    "extent_xy = (0, x_size, y_size, 0)\n",
    "\n",
    "plt.imshow(volume_img[40, :, :], extent=extent_xy)\n",
    "action = ManipulatorAction(rotation=(19, 0), translation=(0, 140))\n",
    "\n",
    "o = volume.GetOrigin()\n",
    "x_dash = np.arange(x_size)\n",
    "b = action.translation[1]\n",
    "y_dash = x_dash * np.tan(np.deg2rad(action.rotation[0])) + b\n",
    "plt.plot(x_dash, y_dash, linestyle=\"--\", color=\"red\")\n",
    "\n",
    "plt.show()"
   ]
  },
  {
   "cell_type": "code",
   "execution_count": null,
   "id": "29c544e76d3f6144",
   "metadata": {
    "jupyter": {
     "is_executing": true
    }
   },
   "outputs": [],
   "source": [
    "sliced_volume = get_volume_slice(\n",
    "    action=action,\n",
    "    volume=volume,\n",
    "    slice_shape=(volume.GetSize()[0], volume.GetSize()[2]),\n",
    ")\n",
    "sliced_img = sitk.GetArrayFromImage(sliced_volume)\n",
    "print(f\"Slice value range: {np.min(sliced_img)} - {np.max(sliced_img)}\")\n",
    "\n",
    "extent_xz = (0, x_size, z_size, 0)\n",
    "plt.imshow(sliced_img, extent=extent_xz)\n",
    "plt.show()"
   ]
  },
  {
   "cell_type": "code",
   "execution_count": null,
   "id": "6803472d7529d369",
   "metadata": {
    "jupyter": {
     "is_executing": true
    }
   },
   "outputs": [],
   "source": [
    "transform = sitk.Euler3DTransform()\n",
    "transform.SetRotation(0, 0, np.deg2rad(19))\n",
    "transform.SetTranslation((0, 10, 0))\n",
    "transform.SetCenter(volume.GetOrigin())\n",
    "resampled = sitk.Resample(volume, transform, sitk.sitkNearestNeighbor, 0.0, volume.GetPixelID())\n",
    "plt.imshow(sitk.GetArrayFromImage(resampled)[40, :, :], extent=extent_xy)"
   ]
  },
  {
   "cell_type": "code",
   "execution_count": null,
   "id": "677890fe4c481d25",
   "metadata": {
    "jupyter": {
     "is_executing": true
    }
   },
   "outputs": [],
   "source": [
    "transformation_action = ManipulatorAction(rotation=(19, 0), translation=(0, 140))\n",
    "relative_action = ManipulatorAction(rotation=(0, 0), translation=(0, 0))"
   ]
  },
  {
   "cell_type": "code",
   "execution_count": null,
   "id": "638f0b403ea85e68",
   "metadata": {
    "jupyter": {
     "is_executing": true
    }
   },
   "outputs": [],
   "source": [
    "volume_rotation = np.deg2rad(transformation_action.rotation)\n",
    "volume_translation = transformation_action.translation\n",
    "\n",
    "volume_transform = sitk.Euler3DTransform()\n",
    "volume_transform.SetRotation(volume_rotation[1], 0, volume_rotation[0])\n",
    "volume_transform.SetTranslation((*volume_translation, 0))\n",
    "\n",
    "inverse_volume_transform = volume_transform.GetInverse()\n",
    "inverse_volume_transform_matrix = np.eye(4)\n",
    "inverse_volume_transform_matrix[:3, :3] = np.array(inverse_volume_transform.GetMatrix()).reshape(\n",
    "    3,\n",
    "    3,\n",
    ")\n",
    "inverse_volume_transform_matrix[:3, 3] = inverse_volume_transform.GetTranslation()\n",
    "\n",
    "action_rotation = np.deg2rad(relative_action.rotation)\n",
    "action_translation = relative_action.translation\n",
    "action_transform = sitk.Euler3DTransform()\n",
    "action_transform.SetRotation(action_rotation[1], 0, action_rotation[0])\n",
    "action_transform.SetTranslation((*action_translation, 0))"
   ]
  },
  {
   "cell_type": "code",
   "execution_count": null,
   "id": "5ecf961f33977811",
   "metadata": {
    "jupyter": {
     "is_executing": true
    }
   },
   "outputs": [],
   "source": [
    "composite = sitk.CompositeTransform(3)\n",
    "composite.AddTransform(inverse_volume_transform)\n",
    "composite.AddTransform(action_transform)"
   ]
  },
  {
   "cell_type": "code",
   "execution_count": null,
   "id": "26ffcc6d7dece611",
   "metadata": {
    "jupyter": {
     "is_executing": true
    }
   },
   "outputs": [],
   "source": [
    "volume_transformation = ManipulatorAction(rotation=(19, 0), translation=(-9.74, -4.31))\n",
    "transformed_volume = create_transformed_volume(volume, volume_transformation)\n",
    "transformed_action = transformed_volume.transform_action(action)"
   ]
  },
  {
   "cell_type": "code",
   "execution_count": null,
   "id": "a54ca3679f89423e",
   "metadata": {
    "jupyter": {
     "is_executing": true
    }
   },
   "outputs": [],
   "source": [
    "print(f\"{action=}\\n{transformed_action=}\\n\")"
   ]
  },
  {
   "cell_type": "code",
   "execution_count": null,
   "id": "db20a3ff9556e8b4",
   "metadata": {
    "jupyter": {
     "is_executing": true
    }
   },
   "outputs": [],
   "source": [
    "transformed_img = sitk.GetArrayFromImage(transformed_volume)\n",
    "\n",
    "plt.imshow(transformed_img[40, :, :], extent=extent_xy)\n",
    "\n",
    "ot = transformed_volume.GetOrigin()\n",
    "x_dash = np.arange(x_size)\n",
    "b = transformed_action.translation[1]\n",
    "y_dash = x_dash * np.tan(np.deg2rad(transformed_action.rotation[0])) + b\n",
    "plt.plot(x_dash, y_dash, linestyle=\"--\", color=\"red\")\n",
    "\n",
    "plt.show()"
   ]
  },
  {
   "cell_type": "code",
   "execution_count": null,
   "id": "acda09e94c3f2f2b",
   "metadata": {
    "jupyter": {
     "is_executing": true
    }
   },
   "outputs": [],
   "source": [
    "sliced_transformed_volume = get_volume_slice(\n",
    "    action=transformed_action,\n",
    "    volume=transformed_volume,\n",
    "    slice_shape=(volume.GetSize()[0], volume.GetSize()[2]),\n",
    ")\n",
    "sliced_transformed_img = sitk.GetArrayFromImage(sliced_transformed_volume)\n",
    "print(f\"Slice value range: {np.min(sliced_transformed_img)} - {np.max(sliced_transformed_img)}\")\n",
    "\n",
    "plt.imshow(sliced_transformed_img, extent=extent_xz)\n",
    "plt.show()"
   ]
  },
  {
   "cell_type": "code",
   "execution_count": null,
   "id": "7daab6fa59e5c75",
   "metadata": {
    "jupyter": {
     "is_executing": true
    }
   },
   "outputs": [],
   "source": [
    "cluster = TissueClusters.from_labelmap_slice(sliced_transformed_img.T)\n",
    "show_clusters(cluster, sliced_transformed_img.T)\n",
    "reward = anatomy_based_rwd(cluster)\n",
    "print(f\"Reward: {reward}\")\n",
    "plt.show()"
   ]
  },
  {
   "cell_type": "code",
   "execution_count": null,
   "id": "fb6cfecff1cb7cd4",
   "metadata": {
    "jupyter": {
     "is_executing": true
    }
   },
   "outputs": [],
   "source": [
    "volume_2 = sitk.ReadImage(config.get_labels_path(2))\n",
    "volume_2_img = sitk.GetArrayFromImage(volume_2)\n",
    "x_size_2, y_size_2, z_size_2 = (\n",
    "    sz * sp for sz, sp in zip(volume_2.GetSize(), volume_2.GetSpacing(), strict=True)\n",
    ")\n",
    "extent_xy_2 = (0, x_size_2, y_size_2, 0)\n",
    "\n",
    "spacing = volume_2.GetSpacing()\n",
    "plt.imshow(volume_2_img[51, :, :], extent=extent_xy_2)\n",
    "action_2 = ManipulatorAction(rotation=(5, 0), translation=(0, 112))\n",
    "\n",
    "o = volume_2.GetOrigin()\n",
    "x_dash = np.arange(x_size_2)\n",
    "b = action_2.translation[1]\n",
    "y_dash = x_dash * np.tan(np.deg2rad(action_2.rotation[0])) + b\n",
    "plt.plot(x_dash, y_dash, linestyle=\"--\", color=\"red\")\n",
    "\n",
    "plt.show()"
   ]
  },
  {
   "cell_type": "code",
   "execution_count": null,
   "id": "6462b823c7903838",
   "metadata": {
    "jupyter": {
     "is_executing": true
    }
   },
   "outputs": [],
   "source": [
    "sliced_volume_2 = get_volume_slice(\n",
    "    action=action_2,\n",
    "    volume=volume_2,\n",
    "    slice_shape=(volume_2.GetSize()[0], volume_2.GetSize()[2]),\n",
    ")\n",
    "sliced_img_2 = sitk.GetArrayFromImage(sliced_volume_2)\n",
    "\n",
    "cluster = TissueClusters.from_labelmap_slice(sliced_img_2.T)\n",
    "show_clusters(cluster, sliced_img_2.T, aspect=spacing[2] / spacing[0])\n",
    "\n",
    "plt.show()"
   ]
  },
  {
   "cell_type": "code",
   "execution_count": null,
   "id": "38dc246ec22f0835",
   "metadata": {
    "jupyter": {
     "is_executing": true
    }
   },
   "outputs": [],
   "source": [
    "volume_transformation_2 = ManipulatorAction(rotation=(10, 0), translation=(-9.74, -4.31))\n",
    "transformed_volume_2 = create_transformed_volume(volume_2, volume_transformation_2)\n",
    "transformed_action_2 = transformed_volume_2.transform_action(action_2)"
   ]
  },
  {
   "cell_type": "code",
   "execution_count": null,
   "id": "5504f6f5d6ad9f5",
   "metadata": {
    "jupyter": {
     "is_executing": true
    }
   },
   "outputs": [],
   "source": [
    "transformed_img_2 = sitk.GetArrayFromImage(transformed_volume_2)\n",
    "\n",
    "plt.imshow(transformed_img_2[51, :, :], extent=extent_xy_2)\n",
    "\n",
    "x_dash = np.arange(x_size_2)\n",
    "b = transformed_action_2.translation[1]\n",
    "y_dash = x_dash * np.tan(np.deg2rad(transformed_action_2.rotation[0])) + b\n",
    "plt.plot(x_dash, y_dash, linestyle=\"--\", color=\"red\")\n",
    "\n",
    "plt.show()"
   ]
  },
  {
   "cell_type": "code",
   "execution_count": null,
   "id": "a47159b4af236854",
   "metadata": {
    "jupyter": {
     "is_executing": true
    }
   },
   "outputs": [],
   "source": [
    "sliced_transformed_volume_2 = get_volume_slice(\n",
    "    action=transformed_action_2,\n",
    "    volume=transformed_volume_2,\n",
    "    slice_shape=(volume_2.GetSize()[0], volume_2.GetSize()[2]),\n",
    ")\n",
    "sliced_transformed_img_2 = sitk.GetArrayFromImage(sliced_transformed_volume_2)\n",
    "\n",
    "cluster = TissueClusters.from_labelmap_slice(sliced_transformed_img_2.T)\n",
    "show_clusters(cluster, sliced_transformed_img_2.T, aspect=spacing[2] / spacing[0])\n",
    "reward = anatomy_based_rwd(cluster)\n",
    "print(f\"Reward: {reward}\")\n",
    "\n",
    "plt.show()"
   ]
  }
 ],
 "metadata": {
  "kernelspec": {
   "display_name": "Python 3",
   "language": "python",
   "name": "python3"
  },
  "language_info": {
   "codemirror_mode": {
    "name": "ipython",
    "version": 2
   },
   "file_extension": ".py",
   "mimetype": "text/x-python",
   "name": "python",
   "nbconvert_exporter": "python",
   "pygments_lexer": "ipython2",
   "version": "2.7.6"
  }
 },
 "nbformat": 4,
 "nbformat_minor": 5
}
