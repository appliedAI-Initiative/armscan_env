{
 "cells": [
  {
   "cell_type": "code",
   "execution_count": null,
   "id": "a4e98c0276b6012d",
   "metadata": {},
   "outputs": [],
   "source": [
    "%load_ext autoreload\n",
    "%autoreload 2"
   ]
  },
  {
   "cell_type": "code",
   "execution_count": null,
   "id": "50b440b37fd9414b",
   "metadata": {},
   "outputs": [],
   "source": [
    "import matplotlib.pyplot as plt\n",
    "import numpy as np\n",
    "import SimpleITK as sitk\n",
    "from armscan_env.config import get_config\n",
    "from armscan_env.envs.labelmaps_navigation import (\n",
    "    LabelmapClusteringBasedReward,\n",
    "    LabelmapEnv,\n",
    "    LabelmapEnvTerminationCriterion,\n",
    ")\n",
    "from armscan_env.envs.observations import LabelmapSliceAsChannelsObservation\n",
    "from armscan_env.wrapper import LinearSweepWrapper\n",
    "from IPython.core.display import HTML\n",
    "\n",
    "config = get_config()"
   ]
  },
  {
   "metadata": {},
   "cell_type": "markdown",
   "source": "# The scanning sub-problem in fewer dimensions",
   "id": "88415eb119bd928d"
  },
  {
   "cell_type": "code",
   "execution_count": null,
   "id": "da45ed45bb7b8f3b",
   "metadata": {},
   "outputs": [],
   "source": [
    "volume_1 = sitk.ReadImage(config.get_labels_path(1))\n",
    "volume_2 = sitk.ReadImage(config.get_labels_path(2))\n",
    "img_array_1 = sitk.GetArrayFromImage(volume_1)\n",
    "img_array_2 = sitk.GetArrayFromImage(volume_2)"
   ]
  },
  {
   "cell_type": "code",
   "execution_count": null,
   "id": "63dd92db3829d7db",
   "metadata": {},
   "outputs": [],
   "source": [
    "volume_size = volume_1.GetSize()\n",
    "\n",
    "env = LabelmapEnv(\n",
    "    name2volume={\"1\": volume_1},\n",
    "    observation=LabelmapSliceAsChannelsObservation(\n",
    "        slice_shape=(volume_size[0], volume_size[2]),\n",
    "        action_shape=(4,),\n",
    "    ),\n",
    "    slice_shape=(volume_size[0], volume_size[2]),\n",
    "    reward_metric=LabelmapClusteringBasedReward(),\n",
    "    termination_criterion=LabelmapEnvTerminationCriterion(),\n",
    "    max_episode_len=10,\n",
    "    rotation_bounds=(30.0, 10.0),\n",
    "    translation_bounds=(0.0, None),\n",
    "    render_mode=\"animation\",\n",
    ")"
   ]
  },
  {
   "cell_type": "code",
   "execution_count": null,
   "id": "16a139f61aaafd19",
   "metadata": {},
   "outputs": [],
   "source": [
    "y_slice_rewards = []\n",
    "\n",
    "env.reset()\n",
    "for y_action in np.linspace(0, env.translation_bounds[1], 500):\n",
    "    cur_y_action = env.get_optimal_action()\n",
    "    cur_y_action.translation = (cur_y_action.translation[0], y_action)\n",
    "    observation, reward, terminated, truncated, info = env.step(cur_y_action)\n",
    "    y_slice_rewards.append(reward)\n",
    "    env.render()\n",
    "\n",
    "    if terminated or truncated:\n",
    "        observation, info = env.reset(reset_render=True)\n",
    "animation = env.get_cur_animation()\n",
    "env.close()"
   ]
  },
  {
   "cell_type": "code",
   "execution_count": null,
   "id": "6cdf855cc85a743a",
   "metadata": {},
   "outputs": [],
   "source": [
    "HTML(animation.to_jshtml())"
   ]
  },
  {
   "cell_type": "code",
   "execution_count": null,
   "id": "edf25c95f777b16b",
   "metadata": {},
   "outputs": [],
   "source": [
    "plt.plot(np.linspace(0, env.translation_bounds[1], 500), y_slice_rewards)\n",
    "plt.xlabel(\"Y translation\")\n",
    "plt.ylabel(\"Reward\")\n",
    "plt.show()"
   ]
  },
  {
   "cell_type": "code",
   "execution_count": null,
   "id": "519dde5f1cea8a5f",
   "metadata": {},
   "outputs": [],
   "source": [
    "volume_size = volume_1.GetSize()\n",
    "\n",
    "env = LabelmapEnv(\n",
    "    name2volume={\"1\": volume_1, \"2\": volume_2},\n",
    "    observation=LabelmapSliceAsChannelsObservation(\n",
    "        slice_shape=(volume_size[0], volume_size[2]),\n",
    "        action_shape=(4,),\n",
    "    ),\n",
    "    slice_shape=(volume_size[0], volume_size[2]),\n",
    "    reward_metric=LabelmapClusteringBasedReward(),\n",
    "    termination_criterion=LabelmapEnvTerminationCriterion(),\n",
    "    max_episode_len=10,\n",
    "    rotation_bounds=(30.0, 10.0),\n",
    "    translation_bounds=(0.0, None),\n",
    "    render_mode=\"animation\",\n",
    ")"
   ]
  },
  {
   "cell_type": "code",
   "execution_count": null,
   "id": "3f9dff9336682907",
   "metadata": {},
   "outputs": [],
   "source": [
    "env = LinearSweepWrapper(env)"
   ]
  },
  {
   "cell_type": "code",
   "execution_count": null,
   "id": "22877ab71fed2eb0",
   "metadata": {},
   "outputs": [],
   "source": [
    "env.reset()\n",
    "for _ in range(50):\n",
    "    action = env.action_space.sample()\n",
    "    observation, reward, terminated, truncated, info = env.step(action)\n",
    "    env.render()\n",
    "\n",
    "    if terminated or truncated:\n",
    "        observation, info = env.reset(reset_render=False)\n",
    "animation = env.get_cur_animation()\n",
    "env.close()"
   ]
  },
  {
   "cell_type": "code",
   "execution_count": null,
   "id": "6ada94c94fe77de0",
   "metadata": {},
   "outputs": [],
   "source": [
    "HTML(animation.to_jshtml())"
   ]
  },
  {
   "cell_type": "code",
   "execution_count": null,
   "id": "2cf8f44a857de93e",
   "metadata": {},
   "outputs": [],
   "source": []
  }
 ],
 "metadata": {
  "kernelspec": {
   "display_name": "Python 3",
   "language": "python",
   "name": "python3"
  },
  "language_info": {
   "codemirror_mode": {
    "name": "ipython",
    "version": 2
   },
   "file_extension": ".py",
   "mimetype": "text/x-python",
   "name": "python",
   "nbconvert_exporter": "python",
   "pygments_lexer": "ipython2",
   "version": "2.7.6"
  }
 },
 "nbformat": 4,
 "nbformat_minor": 5
}
