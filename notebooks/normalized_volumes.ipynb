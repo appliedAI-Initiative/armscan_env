{
 "cells": [
  {
   "cell_type": "code",
   "execution_count": null,
   "id": "ecaf94d658c47deb",
   "metadata": {},
   "outputs": [],
   "source": [
    "%load_ext autoreload\n",
    "%autoreload 2\n",
    "\n",
    "import matplotlib.pyplot as plt\n",
    "import numpy as np\n",
    "import SimpleITK as sitk\n",
    "from armscan_env import config\n",
    "from armscan_env.volumes.loading import load_sitk_volumes, resize_sitk_volume\n",
    "\n",
    "config = config.get_config()"
   ]
  },
  {
   "cell_type": "code",
   "execution_count": null,
   "id": "a468f5f6f4c63d26",
   "metadata": {},
   "outputs": [],
   "source": [
    "volumes = load_sitk_volumes(normalize=False)"
   ]
  },
  {
   "cell_type": "code",
   "execution_count": null,
   "id": "185cb662e1b4c9cd",
   "metadata": {},
   "outputs": [],
   "source": [
    "normalized_volumes = resize_sitk_volume(volumes)"
   ]
  },
  {
   "cell_type": "code",
   "execution_count": null,
   "id": "96a75fa203718430",
   "metadata": {},
   "outputs": [],
   "source": [
    "array = sitk.GetArrayFromImage(normalized_volumes[1])\n",
    "plt.imshow(array[40, :, :])\n",
    "print(f\"Slice value range: {np.min(array)} - {np.max(array)}\")"
   ]
  },
  {
   "cell_type": "code",
   "execution_count": null,
   "id": "2f8c0a05160a98e3",
   "metadata": {},
   "outputs": [],
   "source": [
    "array = sitk.GetArrayFromImage(volumes[0])\n",
    "plt.imshow(array[40, :, :])\n",
    "print(f\"Slice value range: {np.min(array)} - {np.max(array)}\")"
   ]
  }
 ],
 "metadata": {
  "kernelspec": {
   "display_name": "Python 3",
   "language": "python",
   "name": "python3"
  },
  "language_info": {
   "codemirror_mode": {
    "name": "ipython",
    "version": 2
   },
   "file_extension": ".py",
   "mimetype": "text/x-python",
   "name": "python",
   "nbconvert_exporter": "python",
   "pygments_lexer": "ipython2",
   "version": "2.7.6"
  }
 },
 "nbformat": 4,
 "nbformat_minor": 5
}
