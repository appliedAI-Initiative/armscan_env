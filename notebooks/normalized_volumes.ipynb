{
 "cells": [
  {
   "metadata": {},
   "cell_type": "code",
   "source": [
    "%load_ext autoreload\n",
    "%autoreload 2\n",
    "\n",
    "import matplotlib.pyplot as plt\n",
    "import numpy as np\n",
    "import SimpleITK as sitk\n",
    "from armscan_env import config\n",
    "from armscan_env.volumes.loading import load_sitk_volumes, resize_sitk_volume\n",
    "\n",
    "config = config.get_config()"
   ],
   "id": "ecaf94d658c47deb",
   "outputs": [],
   "execution_count": null
  },
  {
   "metadata": {},
   "cell_type": "code",
   "source": [
    "volumes = load_sitk_volumes(normalize=False)"
   ],
   "id": "a468f5f6f4c63d26",
   "outputs": [],
   "execution_count": null
  },
  {
   "metadata": {},
   "cell_type": "code",
   "source": [
    "normalized_volumes = resize_sitk_volume(volumes)"
   ],
   "id": "185cb662e1b4c9cd",
   "outputs": [],
   "execution_count": null
  },
  {
   "metadata": {},
   "cell_type": "code",
   "source": [
    "array = sitk.GetArrayFromImage(normalized_volumes[1])\n",
    "plt.imshow(array[40, :, :])\n",
    "print(f\"Slice value range: {np.min(array)} - {np.max(array)}\")"
   ],
   "id": "96a75fa203718430",
   "outputs": [],
   "execution_count": null
  },
  {
   "metadata": {},
   "cell_type": "code",
   "source": [
    "array = sitk.GetArrayFromImage(volumes[0])\n",
    "plt.imshow(array[40, :, :])\n",
    "print(f\"Slice value range: {np.min(array)} - {np.max(array)}\")"
   ],
   "id": "2f8c0a05160a98e3",
   "outputs": [],
   "execution_count": null
  }
 ],
 "metadata": {
  "kernelspec": {
   "display_name": "Python 3",
   "language": "python",
   "name": "python3"
  },
  "language_info": {
   "codemirror_mode": {
    "name": "ipython",
    "version": 2
   },
   "file_extension": ".py",
   "mimetype": "text/x-python",
   "name": "python",
   "nbconvert_exporter": "python",
   "pygments_lexer": "ipython2",
   "version": "2.7.6"
  }
 },
 "nbformat": 4,
 "nbformat_minor": 5
}
