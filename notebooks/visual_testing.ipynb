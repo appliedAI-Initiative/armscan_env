{
 "cells": [
  {
   "cell_type": "markdown",
   "source": [
    "# Volume action testing"
   ],
   "metadata": {
    "collapsed": false
   },
   "id": "809be6046c4b4c57"
  },
  {
   "cell_type": "code",
   "outputs": [],
   "source": [
    "%load_ext autoreload\n",
    "%autoreload 2"
   ],
   "metadata": {
    "collapsed": false
   },
   "id": "d986b4de2c7f6be7",
   "execution_count": 0
  },
  {
   "cell_type": "code",
   "outputs": [],
   "source": [
    "import matplotlib.pyplot as plt\n",
    "import numpy as np\n",
    "import SimpleITK as sitk\n",
    "from armscan_env import config\n",
    "from armscan_env.clustering import TissueClusters\n",
    "from armscan_env.envs.rewards import anatomy_based_rwd\n",
    "from armscan_env.envs.state_action import ManipulatorAction\n",
    "from armscan_env.util.visualizations import show_clusters\n",
    "from armscan_env.volumes.loading import (\n",
    "    load_sitk_volumes,\n",
    "    normalize_sitk_volumes_to_highest_spacing,\n",
    ")\n",
    "from armscan_env.volumes.volumes import TransformedVolume\n",
    "\n",
    "config = config.get_config()"
   ],
   "metadata": {
    "collapsed": false
   },
   "id": "403fdb5e40711065",
   "execution_count": 0
  },
  {
   "cell_type": "markdown",
   "source": [
    "Let's load all the volumes in their original shape and in the normalized shape:"
   ],
   "metadata": {
    "collapsed": false
   },
   "id": "4d0736495a8cd5c9"
  },
  {
   "cell_type": "code",
   "outputs": [],
   "source": [
    "volumes = load_sitk_volumes(normalize=False)\n",
    "normalized_volumes = normalize_sitk_volumes_to_highest_spacing(volumes)\n",
    "print(volumes[0].GetSize())\n",
    "print(normalized_volumes[0].GetSize())"
   ],
   "metadata": {
    "collapsed": false
   },
   "id": "cad41e41f24bccec",
   "execution_count": 0
  },
  {
   "cell_type": "markdown",
   "source": [
    "Now you can set as `volume` any of the volumes(normalized or not):"
   ],
   "metadata": {
    "collapsed": false
   },
   "id": "78be6ef6180bc185"
  },
  {
   "cell_type": "code",
   "outputs": [],
   "source": [
    "volume = normalized_volumes[2]\n",
    "volume_img = sitk.GetArrayFromImage(volume)\n",
    "size = np.array(volume.GetSize()) * np.array(volume.GetSpacing())\n",
    "print(f\"{size=} mm\")\n",
    "transversal_extent = [0, size[0], 0, size[2]]\n",
    "longitudinal_extent = [0, size[1], 0, size[2]]\n",
    "frontal_extent = [0, size[0], size[1], 0]"
   ],
   "metadata": {
    "collapsed": false
   },
   "id": "191f7006fa3a79dc",
   "execution_count": 0
  },
  {
   "cell_type": "code",
   "outputs": [],
   "source": [
    "optimal_action = volume.optimal_action\n",
    "\n",
    "plt.imshow(volume_img[41, :, :], extent=frontal_extent)\n",
    "o = volume.GetOrigin()\n",
    "x_dash = np.arange(size[0])\n",
    "b = volume.optimal_action.translation[1]\n",
    "y_dash = x_dash * np.tan(np.deg2rad(volume.optimal_action.rotation[0])) + b\n",
    "plt.plot(x_dash, y_dash, linestyle=\"--\", color=\"red\")\n",
    "\n",
    "plt.show()"
   ],
   "metadata": {
    "collapsed": false
   },
   "id": "2633f89101d7e6cc",
   "execution_count": 0
  },
  {
   "cell_type": "code",
   "outputs": [],
   "source": [
    "sliced_volume = volume.get_volume_slice(\n",
    "    action=volume.optimal_action,\n",
    "    slice_shape=(volume.GetSize()[0], volume.GetSize()[2]),\n",
    ")\n",
    "sliced_img = sitk.GetArrayFromImage(sliced_volume)\n",
    "print(f\"Slice value range: {np.min(sliced_img)} - {np.max(sliced_img)}\")\n",
    "\n",
    "extent_xz = (0, size[0], size[2], 0)\n",
    "cluster = TissueClusters.from_labelmap_slice(sliced_img.T)\n",
    "show_clusters(cluster, sliced_img.T)\n",
    "reward = anatomy_based_rwd(cluster)\n",
    "print(f\"Reward: {reward}\")\n",
    "plt.axis(\"off\")\n",
    "plt.show()"
   ],
   "metadata": {
    "collapsed": false
   },
   "id": "dbcb8917ae9e2c55",
   "execution_count": 0
  },
  {
   "cell_type": "code",
   "outputs": [],
   "source": [
    "volume_transformation = ManipulatorAction(\n",
    "    rotation=(-7.213170270886784, 0.0),\n",
    "    translation=(-7.31243280019082, 9.172539411055304),\n",
    ")\n",
    "transformed_volume = TransformedVolume(volume, volume_transformation)\n",
    "transformed_action = transformed_volume.optimal_action\n",
    "print(f\"{volume.optimal_action=}\\n{transformed_volume.optimal_action=}\\n\")"
   ],
   "metadata": {
    "collapsed": false
   },
   "id": "d8db17b4df5fd065",
   "execution_count": 0
  },
  {
   "cell_type": "code",
   "outputs": [],
   "source": [
    "transformed_img = sitk.GetArrayFromImage(transformed_volume)\n",
    "\n",
    "plt.imshow(transformed_img[40, :, :], extent=transversal_extent)\n",
    "\n",
    "ot = transformed_volume.GetOrigin()\n",
    "x_dash = np.arange(size[0])\n",
    "b = transformed_action.translation[1]\n",
    "y_dash = x_dash * np.tan(np.deg2rad(transformed_action.rotation[0])) + b\n",
    "plt.plot(x_dash, y_dash, linestyle=\"--\", color=\"red\")\n",
    "\n",
    "plt.show()"
   ],
   "metadata": {
    "collapsed": false
   },
   "id": "8de260f60c16d4ff",
   "execution_count": 0
  },
  {
   "cell_type": "code",
   "outputs": [],
   "source": [
    "sliced_transformed_volume = transformed_volume.get_volume_slice(\n",
    "    action=transformed_action,\n",
    "    slice_shape=(volume.GetSize()[0], volume.GetSize()[2]),\n",
    ")\n",
    "sliced_transformed_img = sitk.GetArrayFromImage(sliced_transformed_volume)\n",
    "print(f\"Slice value range: {np.min(sliced_transformed_img)} - {np.max(sliced_transformed_img)}\")\n",
    "\n",
    "cluster = TissueClusters.from_labelmap_slice(sliced_transformed_img.T)\n",
    "show_clusters(cluster, sliced_transformed_img.T)\n",
    "reward = anatomy_based_rwd(cluster)\n",
    "print(f\"Reward: {reward}\")\n",
    "plt.show()"
   ],
   "metadata": {
    "collapsed": false
   },
   "id": "aa4860ba2a37e3ac",
   "execution_count": 0
  },
  {
   "cell_type": "code",
   "outputs": [],
   "source": [],
   "metadata": {
    "collapsed": false
   },
   "id": "59ee0ec000ef2e5f",
   "execution_count": 0
  }
 ],
 "metadata": {
  "kernelspec": {
   "display_name": "Python 3",
   "language": "python",
   "name": "python3"
  },
  "language_info": {
   "codemirror_mode": {
    "name": "ipython",
    "version": 2
   },
   "file_extension": ".py",
   "mimetype": "text/x-python",
   "name": "python",
   "nbconvert_exporter": "python",
   "pygments_lexer": "ipython2",
   "version": "2.7.6"
  }
 },
 "nbformat": 4,
 "nbformat_minor": 5
}
