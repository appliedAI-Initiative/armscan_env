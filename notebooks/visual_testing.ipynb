{
 "cells": [
  {
   "cell_type": "markdown",
   "id": "809be6046c4b4c57",
   "metadata": {},
   "source": [
    "# Volume action testing"
   ]
  },
  {
   "cell_type": "code",
   "execution_count": null,
   "id": "d986b4de2c7f6be7",
   "metadata": {},
   "outputs": [],
   "source": [
    "%load_ext autoreload\n",
    "%autoreload 2"
   ]
  },
  {
   "cell_type": "code",
   "execution_count": null,
   "id": "403fdb5e40711065",
   "metadata": {},
   "outputs": [],
   "source": [
    "import matplotlib.pyplot as plt\n",
    "import numpy as np\n",
    "import SimpleITK as sitk\n",
    "from armscan_env import config\n",
    "from armscan_env.clustering import TissueClusters\n",
    "from armscan_env.envs.rewards import anatomy_based_rwd\n",
    "from armscan_env.envs.state_action import ManipulatorAction\n",
    "from armscan_env.util.visualizations import show_clusters\n",
    "from armscan_env.volumes.loading import (\n",
    "    load_sitk_volumes,\n",
    "    normalize_sitk_volumes_to_highest_spacing,\n",
    ")\n",
    "from armscan_env.volumes.volumes import TransformedVolume\n",
    "\n",
    "config = config.get_config()"
   ]
  },
  {
   "cell_type": "markdown",
   "id": "4d0736495a8cd5c9",
   "metadata": {},
   "source": [
    "Let's load all the volumes in their original shape and in the normalized shape:"
   ]
  },
  {
   "cell_type": "code",
   "execution_count": null,
   "id": "cad41e41f24bccec",
   "metadata": {},
   "outputs": [],
   "source": [
    "volumes = load_sitk_volumes(normalize=False)\n",
    "cropped_volumes = load_sitk_volumes(normalize=True, cropped=True)\n",
    "plt.style.use(\"default\")\n",
    "normalized_volumes = normalize_sitk_volumes_to_highest_spacing(volumes)\n",
    "print(volumes[0].GetSize())\n",
    "print(normalized_volumes[0].GetSize())"
   ]
  },
  {
   "cell_type": "markdown",
   "id": "78be6ef6180bc185",
   "metadata": {},
   "source": [
    "Now you can set as `volume` any of the volumes(normalized or not):"
   ]
  },
  {
   "cell_type": "code",
   "execution_count": null,
   "id": "191f7006fa3a79dc",
   "metadata": {},
   "outputs": [],
   "source": [
    "volume_1 = sitk.ReadImage(config.get_single_labelmap_path(37))\n",
    "volume_img_1 = sitk.GetArrayFromImage(volume_1)\n",
    "size = np.array(volume_1.GetSize()) * np.array(volume_1.GetSpacing())\n",
    "print(f\"{size=} mm\")\n",
    "transversal_extent = (0, size[0], 0, size[2])\n",
    "longitudinal_extent = (0, size[1], 0, size[2])\n",
    "frontal_extent = (0, size[0], size[1], 0)"
   ]
  },
  {
   "cell_type": "code",
   "execution_count": null,
   "id": "9f4b138882b528b0",
   "metadata": {},
   "outputs": [],
   "source": [
    "cropped_volume_img_1 = sitk.GetArrayFromImage(cropped_volumes[0])\n",
    "cropped_volume_img_2 = sitk.GetArrayFromImage(cropped_volumes[1])\n",
    "cropped_volume_img_3 = sitk.GetArrayFromImage(cropped_volumes[2])\n",
    "cropped_volume_img_4 = sitk.GetArrayFromImage(cropped_volumes[3])\n",
    "\n",
    "fig, axs = plt.subplots(2, 2, figsize=(12, 5))\n",
    "axs[0, 0].imshow(cropped_volume_img_1[41, :, :])\n",
    "axs[0, 1].imshow(cropped_volume_img_2[51, :, :])\n",
    "axs[1, 0].imshow(cropped_volume_img_3[40, :, :])\n",
    "axs[1, 1].imshow(cropped_volume_img_4[35, :, :])\n",
    "# turn ogg axis for all subplots\n",
    "for ax in axs.flat:\n",
    "    ax.axis(\"off\")\n",
    "plt.show()"
   ]
  },
  {
   "cell_type": "code",
   "execution_count": null,
   "id": "2633f89101d7e6cc",
   "metadata": {},
   "outputs": [],
   "source": [
    "optimal_action = ManipulatorAction(rotation=(0, 0), translation=(0, 140))\n",
    "\n",
    "plt.imshow(volume_img_1[50, :, :], extent=frontal_extent)\n",
    "o = volume_1.GetOrigin()\n",
    "x_dash = np.arange(size[0])\n",
    "b = optimal_action.translation[1]\n",
    "y_dash = x_dash * np.tan(np.deg2rad(optimal_action.rotation[0])) + b\n",
    "plt.plot(x_dash, y_dash, linestyle=\"--\", color=\"red\")\n",
    "\n",
    "plt.show()"
   ]
  },
  {
   "cell_type": "code",
   "execution_count": null,
   "id": "dbcb8917ae9e2c55",
   "metadata": {},
   "outputs": [],
   "source": [
    "sliced_volume = volume_1.get_volume_slice(\n",
    "    action=volume_1.optimal_action,\n",
    "    slice_shape=(volume_1.GetSize()[0], volume_1.GetSize()[2]),\n",
    ")\n",
    "sliced_img = sitk.GetArrayFromImage(sliced_volume)\n",
    "print(f\"Slice value range: {np.min(sliced_img)} - {np.max(sliced_img)}\")\n",
    "\n",
    "extent_xz = (0, size[0], size[2], 0)\n",
    "cluster = TissueClusters.from_labelmap_slice(sliced_img.T)\n",
    "show_clusters(cluster, sliced_img.T)\n",
    "reward = anatomy_based_rwd(cluster)\n",
    "print(f\"Reward: {reward}\")\n",
    "plt.axis(\"off\")\n",
    "plt.show()"
   ]
  },
  {
   "cell_type": "code",
   "execution_count": null,
   "id": "d8db17b4df5fd065",
   "metadata": {},
   "outputs": [],
   "source": [
    "volume_transformation = ManipulatorAction(\n",
    "    rotation=(-7.213170270886784, 0.0),\n",
    "    translation=(-7.31243280019082, 9.172539411055304),\n",
    ")\n",
    "transformed_volume = TransformedVolume(volume_1, volume_transformation)\n",
    "transformed_action = transformed_volume.optimal_action\n",
    "print(f\"{volume_1.optimal_action=}\\n{transformed_volume.optimal_action=}\\n\")"
   ]
  },
  {
   "cell_type": "code",
   "execution_count": null,
   "id": "8de260f60c16d4ff",
   "metadata": {},
   "outputs": [],
   "source": [
    "transformed_img = sitk.GetArrayFromImage(transformed_volume)\n",
    "\n",
    "plt.imshow(transformed_img[40, :, :], extent=transversal_extent)\n",
    "\n",
    "ot = transformed_volume.GetOrigin()\n",
    "x_dash = np.arange(size[0])\n",
    "b = transformed_action.translation[1]\n",
    "y_dash = x_dash * np.tan(np.deg2rad(transformed_action.rotation[0])) + b\n",
    "plt.plot(x_dash, y_dash, linestyle=\"--\", color=\"red\")\n",
    "\n",
    "plt.show()"
   ]
  },
  {
   "cell_type": "code",
   "execution_count": null,
   "id": "aa4860ba2a37e3ac",
   "metadata": {},
   "outputs": [],
   "source": [
    "sliced_transformed_volume = transformed_volume.get_volume_slice(\n",
    "    action=transformed_action,\n",
    "    slice_shape=(volume_1.GetSize()[0], volume_1.GetSize()[2]),\n",
    ")\n",
    "sliced_transformed_img = sitk.GetArrayFromImage(sliced_transformed_volume)\n",
    "print(f\"Slice value range: {np.min(sliced_transformed_img)} - {np.max(sliced_transformed_img)}\")\n",
    "\n",
    "cluster = TissueClusters.from_labelmap_slice(sliced_transformed_img.T)\n",
    "show_clusters(cluster, sliced_transformed_img.T)\n",
    "reward = anatomy_based_rwd(cluster)\n",
    "print(f\"Reward: {reward}\")\n",
    "plt.show()"
   ]
  },
  {
   "cell_type": "code",
   "execution_count": null,
   "id": "59ee0ec000ef2e5f",
   "metadata": {},
   "outputs": [],
   "source": []
  }
 ],
 "metadata": {
  "kernelspec": {
   "display_name": "Python 3",
   "language": "python",
   "name": "python3"
  },
  "language_info": {
   "codemirror_mode": {
    "name": "ipython",
    "version": 2
   },
   "file_extension": ".py",
   "mimetype": "text/x-python",
   "name": "python",
   "nbconvert_exporter": "python",
   "pygments_lexer": "ipython2",
   "version": "2.7.6"
  }
 },
 "nbformat": 4,
 "nbformat_minor": 5
}
