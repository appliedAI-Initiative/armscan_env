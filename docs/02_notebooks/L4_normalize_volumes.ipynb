{
 "cells": [
  {
   "cell_type": "code",
   "execution_count": null,
   "id": "d38b69d1f4f725f0",
   "metadata": {
    "tags": [
     "remove-cell"
    ]
   },
   "outputs": [],
   "source": [
    "%load_ext autoreload\n",
    "%autoreload 2"
   ]
  },
  {
   "cell_type": "code",
   "execution_count": null,
   "id": "ecaf94d658c47deb",
   "metadata": {
    "tags": [
     "hide-cell"
    ]
   },
   "outputs": [],
   "source": [
    "import matplotlib.pyplot as plt\n",
    "import numpy as np\n",
    "import SimpleITK as sitk\n",
    "from armscan_env import config\n",
    "from armscan_env.clustering import TissueClusters\n",
    "from armscan_env.envs.rewards import anatomy_based_rwd\n",
    "from armscan_env.util.visualizations import show_clusters\n",
    "from armscan_env.volumes.loading import (\n",
    "    load_sitk_volumes,\n",
    "    normalize_sitk_volumes_to_highest_spacing,\n",
    ")\n",
    "\n",
    "config = config.get_config()"
   ]
  },
  {
   "cell_type": "markdown",
   "id": "6142101ae052b59d",
   "metadata": {},
   "source": [
    "# Volumes Normalization"
   ]
  },
  {
   "cell_type": "markdown",
   "id": "78efade6d44bd144",
   "metadata": {},
   "source": [
    "Let's load all the volumes in their original shape and in the normalized shape:"
   ]
  },
  {
   "cell_type": "code",
   "execution_count": null,
   "id": "f0711576d1591e1e",
   "metadata": {},
   "outputs": [],
   "source": [
    "volumes = load_sitk_volumes(normalize=False)\n",
    "normalized_volumes = normalize_sitk_volumes_to_highest_spacing(volumes)"
   ]
  },
  {
   "cell_type": "markdown",
   "id": "9a204f63cc235db8",
   "metadata": {},
   "source": [
    "Now you can set as `volume` any of the volumes (normalized or not). For the same volume, the array size will change, but the physical size will remain the same. The extent of the image will be set accordingly to the physical size."
   ]
  },
  {
   "cell_type": "code",
   "execution_count": null,
   "id": "f0443d0b99cee935",
   "metadata": {},
   "outputs": [],
   "source": [
    "volume = volumes[1]\n",
    "volume_img = sitk.GetArrayFromImage(volume)\n",
    "size = np.array(volume.GetSize()) * np.array(volume.GetSpacing())\n",
    "print(f\"{volume_img.shape=}\")\n",
    "print(f\"{size=} mm\")"
   ]
  },
  {
   "cell_type": "code",
   "execution_count": null,
   "id": "a03b8c356917d86f",
   "metadata": {},
   "outputs": [],
   "source": [
    "volume = normalized_volumes[1]\n",
    "volume_img = sitk.GetArrayFromImage(volume)\n",
    "size = np.array(volume.GetSize()) * np.array(volume.GetSpacing())\n",
    "print(f\"{volume_img.shape=}\")\n",
    "print(f\"{size=} mm\")\n",
    "transversal_extent = (0, size[0], 0, size[2])\n",
    "longitudinal_extent = (0, size[1], 0, size[2])\n",
    "frontal_extent = (0, size[0], size[1], 0)"
   ]
  },
  {
   "cell_type": "markdown",
   "id": "ff9df7bfe54d9a2c",
   "metadata": {},
   "source": [
    "Let's visualize the optimal slice from the frontal view:"
   ]
  },
  {
   "cell_type": "code",
   "execution_count": null,
   "id": "a3c66c97f44e6e79",
   "metadata": {},
   "outputs": [],
   "source": [
    "action = volume.optimal_action\n",
    "\n",
    "spacing = volume.GetSpacing()\n",
    "plt.imshow(volume_img[40, :, :], extent=frontal_extent)\n",
    "\n",
    "o = volume.GetOrigin()\n",
    "x_dash = np.arange(size[0])\n",
    "b = action.translation[1]\n",
    "y_dash = x_dash * np.tan(np.deg2rad(action.rotation[0])) + b\n",
    "plt.plot(x_dash, y_dash, linestyle=\"--\", color=\"red\")\n",
    "plt.title(\"Optimal action\")\n",
    "plt.ylabel(\"Y [mm]\")\n",
    "plt.xlabel(\"X [mm]\")\n",
    "plt.show()"
   ]
  },
  {
   "cell_type": "markdown",
   "id": "db0159d40bd4cb49",
   "metadata": {},
   "source": [
    "Now let's see if it corresponds to a optimal view of the carpal tunnel:"
   ]
  },
  {
   "cell_type": "code",
   "execution_count": null,
   "id": "4bbd55164937cbbe",
   "metadata": {},
   "outputs": [],
   "source": [
    "slice_shape = (volume.GetSize()[0], volume.GetSize()[2])\n",
    "sliced_volume = volume.get_volume_slice(\n",
    "    slice_shape=slice_shape,\n",
    "    action=action,\n",
    ")\n",
    "sliced_img = sitk.GetArrayFromImage(sliced_volume)\n",
    "cluster = TissueClusters.from_labelmap_slice(sliced_img.T)\n",
    "show_clusters(cluster, sliced_img.T, extent=transversal_extent)\n",
    "print(f\"Slice value range: {np.min(sliced_img)} - {np.max(sliced_img)}\")\n",
    "plt.axis(\"off\")\n",
    "plt.show()"
   ]
  },
  {
   "cell_type": "markdown",
   "id": "d698b4ac78c7428a",
   "metadata": {},
   "source": [
    "The reward of the action depends on how well the clusters correspond to the anatomical description. It is difficult to tune the clustering so that it performs well in all volumes, so we set a threshold $\\delta$ to determine if the score is just good enough. The reward is then:"
   ]
  },
  {
   "cell_type": "code",
   "execution_count": null,
   "id": "b7b8d2c53c0a690a",
   "metadata": {},
   "outputs": [],
   "source": [
    "reward = anatomy_based_rwd(cluster)\n",
    "print(reward)"
   ]
  },
  {
   "cell_type": "code",
   "execution_count": null,
   "id": "9b0966298f2bc74c",
   "metadata": {},
   "outputs": [],
   "source": []
  }
 ],
 "metadata": {
  "kernelspec": {
   "display_name": "armscan-env-etS5yIfD-py3.11",
   "language": "python",
   "name": "python3"
  },
  "language_info": {
   "codemirror_mode": {
    "name": "ipython",
    "version": 3
   },
   "file_extension": ".py",
   "mimetype": "text/x-python",
   "name": "python",
   "nbconvert_exporter": "python",
   "pygments_lexer": "ipython3",
   "version": "3.11.10"
  }
 },
 "nbformat": 4,
 "nbformat_minor": 5
}
