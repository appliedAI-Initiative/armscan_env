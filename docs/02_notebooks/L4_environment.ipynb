{
 "cells": [
  {
   "cell_type": "markdown",
   "metadata": {},
   "source": [
    "# Environment, all in one"
   ]
  },
  {
   "cell_type": "code",
   "execution_count": null,
   "metadata": {
    "tags": [
     "hide-cell"
    ]
   },
   "outputs": [],
   "source": [
    "import os\n",
    "\n",
    "import matplotlib.pyplot as plt\n",
    "import numpy as np\n",
    "import SimpleITK as sitk\n",
    "from armscan_env.clustering import find_DBSCAN_clusters\n",
    "from armscan_env.envs.rewards import anatomy_based_rwd\n",
    "from armscan_env.slicing import slice_volume\n",
    "from armscan_env.util.visualizations import show_clusters"
   ]
  },
  {
   "cell_type": "markdown",
   "metadata": {},
   "source": [
    "We can now put everything together in a single environment. We will use the `slice_volume` function to create a 2D slice of the 3D volume, and then we will use the `find_DBSCAN_clusters` function to find the clusters of pixels that correspond to the different tissues. Finally, we will use the `anatomy_based_rwd` function to calculate the reward based on the anatomy of the arm."
   ]
  },
  {
   "cell_type": "code",
   "execution_count": null,
   "metadata": {},
   "outputs": [],
   "source": [
    "# Load the image data\n",
    "path_to_labels = os.path.join(\"../..\", \"data\", \"labels\", \"00001_labels.nii\")\n",
    "volume = sitk.ReadImage(path_to_labels)\n",
    "img_array = sitk.GetArrayFromImage(volume)"
   ]
  },
  {
   "cell_type": "code",
   "execution_count": null,
   "metadata": {},
   "outputs": [],
   "source": [
    "tissues = {\"bones\": 1, \"tendons\": 2, \"ulnar\": 3}"
   ]
  },
  {
   "cell_type": "code",
   "execution_count": null,
   "metadata": {
    "tags": [
     "hide-output"
    ]
   },
   "outputs": [],
   "source": [
    "from celluloid import Camera\n",
    "\n",
    "t = [160, 155, 150, 148, 146, 142, 140, 140, 115, 120, 125, 125, 130, 130, 135, 138, 140, 140, 140]\n",
    "z = [0, -5, 0, 0, 5, 15, 19.3, -10, 0, 0, 0, 5, -8, 8, 0, -10, -10, 10, 19.3]\n",
    "o = volume.GetOrigin()\n",
    "\n",
    "\n",
    "# Sample functions for demonstration\n",
    "def linear_function(x: np.ndarray, m: float, b: float) -> np.ndarray:\n",
    "    return m * x + b\n",
    "\n",
    "\n",
    "# Create a figure and a gridspec with two rows and two columns\n",
    "fig = plt.figure(constrained_layout=True, figsize=(8, 6))\n",
    "gs = fig.add_gridspec(2, 2)\n",
    "camera = Camera(fig)\n",
    "\n",
    "# Add subplots\n",
    "ax1 = fig.add_subplot(gs[:, 0])\n",
    "ax2 = fig.add_subplot(gs[0, 1])\n",
    "ax3 = fig.add_subplot(gs[1, 1])\n",
    "\n",
    "for i in range(len(t)):\n",
    "    # Subplot 1: Image with dashed line\n",
    "    ax1.imshow(img_array[40, :, :])\n",
    "    x_dash = np.arange(img_array.shape[2])\n",
    "    b = volume.TransformPhysicalPointToIndex([o[0], o[1] + t[i], o[2]])[1]\n",
    "    y_dash = linear_function(x_dash, np.tan(np.deg2rad(z[i])), b)\n",
    "    ax1.set_title(f\"Section {0}\")\n",
    "    line = ax1.plot(x_dash, y_dash, linestyle=\"--\", color=\"red\")[0]\n",
    "    ax1.set_title(\"Slice cut\")\n",
    "\n",
    "    # ACTION\n",
    "    sliced_volume = slice_volume(\n",
    "        z_rotation=z[i],\n",
    "        x_rotation=0.0,\n",
    "        translation=np.array([0, t[i], 0]),\n",
    "        volume=volume,\n",
    "    )\n",
    "    sliced_img = sitk.GetArrayFromImage(sliced_volume)[:, 0, :]\n",
    "    ax2.imshow(sliced_img, origin=\"lower\", aspect=6)\n",
    "    ax2.set_title(f\"Slice {i}\")\n",
    "\n",
    "    # OBSERVATION\n",
    "    print(i)\n",
    "    clusters = {\n",
    "        \"bones\": find_DBSCAN_clusters(tissues[\"bones\"], sliced_img, eps=4.1, min_samples=46),\n",
    "        \"tendons\": find_DBSCAN_clusters(tissues[\"tendons\"], sliced_img, eps=4.1, min_samples=46),\n",
    "        \"ulnar\": find_DBSCAN_clusters(tissues[\"ulnar\"], sliced_img, eps=2.5, min_samples=18),\n",
    "    }\n",
    "    ax3 = show_clusters(clusters, sliced_img, ax3)\n",
    "    # ax3.set_title(f'Clusters {i}')\n",
    "\n",
    "    # REWARD\n",
    "    loss = anatomy_based_rwd(clusters)\n",
    "    plt.text(0, 0, f\"Loss: {loss:.2f}\", fontsize=12, color=\"red\")\n",
    "\n",
    "    camera.snap()\n",
    "    plt.close()"
   ]
  },
  {
   "cell_type": "code",
   "execution_count": null,
   "metadata": {},
   "outputs": [],
   "source": [
    "animation = camera.animate()\n",
    "plt.rcParams[\"animation.html\"] = \"jshtml\"\n",
    "animation  # noqa: B018"
   ]
  }
 ],
 "metadata": {
  "kernelspec": {
   "display_name": "med_im",
   "language": "python",
   "name": "python3"
  },
  "language_info": {
   "codemirror_mode": {
    "name": "ipython",
    "version": 3
   },
   "file_extension": ".py",
   "mimetype": "text/x-python",
   "name": "python",
   "nbconvert_exporter": "python",
   "pygments_lexer": "ipython3",
   "version": "3.9.18"
  }
 },
 "nbformat": 4,
 "nbformat_minor": 2
}
