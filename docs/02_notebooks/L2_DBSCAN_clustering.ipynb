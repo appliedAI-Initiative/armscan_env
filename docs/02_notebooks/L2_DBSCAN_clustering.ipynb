{
 "cells": [
  {
   "cell_type": "code",
   "execution_count": null,
   "metadata": {
    "tags": [
     "remove-cell"
    ]
   },
   "outputs": [],
   "source": [
    "%load_ext autoreload\n",
    "%autoreload 2"
   ]
  },
  {
   "cell_type": "code",
   "execution_count": null,
   "metadata": {
    "tags": [
     "hide-cell"
    ]
   },
   "outputs": [],
   "source": [
    "import matplotlib.pyplot as plt\n",
    "import numpy as np\n",
    "import SimpleITK as sitk\n",
    "from armscan_env.clustering import (\n",
    "    TissueClusters,\n",
    "    TissueLabel,\n",
    "    find_DBSCAN_clusters,\n",
    ")\n",
    "from armscan_env.config import get_config\n",
    "from armscan_env.envs.rewards import anatomy_based_rwd\n",
    "from armscan_env.util.visualizations import show_clusters\n",
    "\n",
    "config = get_config()"
   ]
  },
  {
   "cell_type": "markdown",
   "metadata": {},
   "source": [
    "# DBSCAN Clustering Search"
   ]
  },
  {
   "cell_type": "code",
   "execution_count": null,
   "metadata": {},
   "outputs": [],
   "source": [
    "volume = sitk.ReadImage(config.get_single_labelmap_path(1))\n",
    "volume_img = sitk.GetArrayFromImage(volume)\n",
    "print(f\"{volume_img.shape=}\")\n",
    "\n",
    "size = np.array(volume.GetSize()) * np.array(volume.GetSpacing())\n",
    "print(f\"{size=} mm\")\n",
    "transversal_extent = (0, size[0], 0, size[2])\n",
    "longitudinal_extent = (0, size[1], 0, size[2])\n",
    "frontal_extent = (0, size[0], size[1], 0)"
   ]
  },
  {
   "cell_type": "code",
   "execution_count": null,
   "metadata": {},
   "outputs": [],
   "source": [
    "tissues = {\n",
    "    \"bones\": 1,\n",
    "    \"tendons\": 2,\n",
    "    \"ulnar\": 3,\n",
    "}"
   ]
  },
  {
   "cell_type": "markdown",
   "metadata": {},
   "source": [
    "DBSCAN might be a better clustering technique that offers more flexibility. It works by defining clusters as continuous regions of high density. It groups together points that are closely packed together (points with many nearby neighbors), marking as outliers points that lie alone in low-density regions (whose nearest neighbors are too far away). The DBSCAN algorithm has two parameters: `min_samples` and `eps`. The `min_samples` parameter specifies the minimum number of points that a cluster must have in order to be considered a cluster. The `eps` parameter specifies the maximum distance between two samples for one to be considered as in the neighborhood of the other."
   ]
  },
  {
   "cell_type": "code",
   "execution_count": null,
   "metadata": {},
   "outputs": [],
   "source": [
    "clusters_680 = TissueClusters(\n",
    "    bones=find_DBSCAN_clusters(\n",
    "        TissueLabel.BONES,\n",
    "        volume_img[:, 680, :].T,\n",
    "        eps=4.1,\n",
    "        min_samples=46,\n",
    "    ),\n",
    "    tendons=find_DBSCAN_clusters(\n",
    "        TissueLabel.TENDONS,\n",
    "        volume_img[:, 680, :].T,\n",
    "        eps=3.0,\n",
    "        min_samples=18,\n",
    "    ),\n",
    "    ulnar=find_DBSCAN_clusters(\n",
    "        TissueLabel.ULNAR,\n",
    "        volume_img[:, 680, :].T,\n",
    "        eps=2.0,\n",
    "        min_samples=10,\n",
    "    ),\n",
    ")\n",
    "\n",
    "fig = show_clusters(clusters_680, volume_img[:, 680, :].T, extent=transversal_extent)\n",
    "fig.set_xlabel(\"X [mm]\")\n",
    "fig.set_ylabel(\"Z [mm]\")\n",
    "plt.show()"
   ]
  },
  {
   "cell_type": "markdown",
   "metadata": {},
   "source": [
    "In general, this algorithm offers a better anatomical description, since it allows to reason about the average dimension of the clusters for each kind of tissue, removing possible outliers given by segmentation errors."
   ]
  },
  {
   "cell_type": "markdown",
   "metadata": {},
   "source": [
    "You can play around with the parameter of DBSCAN to find the best tuning, or you can use the constructor `TissueClusters.from_labelmap_slice` which iterates through the tissues to find clusters with predetermined parameters `eps` and `min_samples`."
   ]
  },
  {
   "cell_type": "code",
   "execution_count": null,
   "metadata": {
    "tags": [
     "hide-output"
    ]
   },
   "outputs": [],
   "source": [
    "sweep_loss = []\n",
    "clusters_list = []\n",
    "\n",
    "for i in range(volume_img.shape[1]):\n",
    "    clusters = TissueClusters.from_labelmap_slice(volume_img[:, i, :].T)\n",
    "    loss = anatomy_based_rwd(clusters, n_landmarks=(7, 3, 1))\n",
    "    clusters_list.append(clusters)\n",
    "    print(f\"Loss for slice {i}: {loss}\")\n",
    "    sweep_loss.append(loss)"
   ]
  },
  {
   "cell_type": "code",
   "execution_count": null,
   "metadata": {},
   "outputs": [],
   "source": [
    "plt.plot(range(len(sweep_loss)), sweep_loss, marker=\"o\")\n",
    "plt.xlabel(\"Slice index\")\n",
    "plt.ylabel(\"Score\")\n",
    "plt.title(\"Score along axial slices\")\n",
    "\n",
    "plt.show()"
   ]
  },
  {
   "cell_type": "markdown",
   "metadata": {},
   "source": [
    "The plot shows the score of the clustering along the axial slices. The optimal region corresponds to the anatomical description, as we can see in the following images."
   ]
  },
  {
   "cell_type": "code",
   "execution_count": null,
   "metadata": {},
   "outputs": [],
   "source": [
    "# Find the max reward and show the slice for it\n",
    "max_loss_idx = np.argmax(sweep_loss)\n",
    "print(f\"Minimum loss: {sweep_loss[max_loss_idx]} at index {max_loss_idx}\")\n",
    "fig, ax = plt.subplots(1, 2, figsize=(14, 7))\n",
    "show_clusters(clusters_list[max_loss_idx], volume_img[:, max_loss_idx, :].T, ax=ax[0], aspect=6)\n",
    "ax[1].imshow(volume_img[:, max_loss_idx, :], aspect=6, origin=\"lower\")\n",
    "for a in ax:\n",
    "    a.axis(\"off\")\n",
    "plt.show()"
   ]
  },
  {
   "cell_type": "code",
   "execution_count": null,
   "metadata": {},
   "outputs": [],
   "source": [
    "zero_loss_indices = np.where(np.array(sweep_loss) == 0)[0]\n",
    "print(f\"{len(zero_loss_indices)} indices return a zero loss: \", zero_loss_indices)\n",
    "\n",
    "nrows = 3\n",
    "ncols = len(zero_loss_indices) // nrows\n",
    "indices_to_display = nrows * ncols\n",
    "\n",
    "if indices_to_display > 0:\n",
    "    fig, axes = plt.subplots(nrows=nrows, ncols=ncols, figsize=(20, 10))\n",
    "    axes = axes.flatten()\n",
    "    for i, idx in enumerate(zero_loss_indices[:indices_to_display]):\n",
    "        axes[i] = show_clusters(\n",
    "            tissue_clusters=clusters_list[idx],\n",
    "            slice=volume_img[:, idx, :].T,\n",
    "            aspect=6,\n",
    "            ax=axes[i],\n",
    "        )\n",
    "        axes[i].set_title(f\"Index: {idx}, Loss: {sweep_loss[idx]:.2f}\")\n",
    "        axes[i].axis(\"off\")\n",
    "\n",
    "    plt.show()"
   ]
  },
  {
   "cell_type": "markdown",
   "metadata": {},
   "source": [
    "Segmenting the same image with the centro-symmetric clustering and DBSCAN demonstrates the difference in the clustering techniques. The centro-symmetric clustering is more sensitive to the noise in the image, while DBSCAN can be tuned to ignore the noise and focus on the main clusters."
   ]
  },
  {
   "cell_type": "code",
   "execution_count": null,
   "metadata": {},
   "outputs": [],
   "source": [
    "from armscan_env.clustering import cluster_iter\n",
    "\n",
    "fig, ax = plt.subplots(1, 2, figsize=(14, 7))\n",
    "\n",
    "clusters_668 = cluster_iter(tissues, volume_img[:, 668, :].T)\n",
    "show_clusters(clusters_668, volume_img[:, 668, :].T, aspect=6, ax=ax[0])\n",
    "ax[0].axis(\"off\")\n",
    "ax[0].set_title(\"Centrosymmetric Clustering\")\n",
    "\n",
    "clusters_668 = TissueClusters.from_labelmap_slice(volume_img[:, 668, :].T)\n",
    "show_clusters(clusters_668, volume_img[:, 668, :].T, aspect=6, ax=ax[1])\n",
    "ax[1].axis(\"off\")\n",
    "ax[1].set_title(\"DBSCAN Clustering\")\n",
    "plt.show()"
   ]
  },
  {
   "cell_type": "code",
   "execution_count": null,
   "metadata": {},
   "outputs": [],
   "source": []
  }
 ],
 "metadata": {
  "kernelspec": {
   "display_name": "med_im",
   "language": "python",
   "name": "python3"
  },
  "language_info": {
   "codemirror_mode": {
    "name": "ipython",
    "version": 3
   },
   "file_extension": ".py",
   "mimetype": "text/x-python",
   "name": "python",
   "nbconvert_exporter": "python",
   "pygments_lexer": "ipython3",
   "version": "3.9.18"
  }
 },
 "nbformat": 4,
 "nbformat_minor": 2
}
