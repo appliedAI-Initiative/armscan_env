{
 "cells": [
  {
   "cell_type": "markdown",
   "id": "ad96e9219242767a",
   "metadata": {},
   "source": [
    "# Plotting experiments"
   ]
  },
  {
   "cell_type": "code",
   "execution_count": null,
   "id": "ee0abd69add1b729",
   "metadata": {},
   "outputs": [],
   "source": [
    "import os.path\n",
    "\n",
    "import matplotlib.pyplot as plt\n",
    "import pandas as pd\n",
    "import seaborn as sns"
   ]
  },
  {
   "cell_type": "code",
   "execution_count": null,
   "id": "14c4e3fd775638c7",
   "metadata": {},
   "outputs": [],
   "source": [
    "file_dir = os.path.dirname(__file__) if \"__file__\" in locals() else os.getcwd()\n",
    "experiments_dir = os.path.join(file_dir, os.pardir, \"data/experiments\")"
   ]
  },
  {
   "cell_type": "code",
   "execution_count": null,
   "id": "initial_id",
   "metadata": {},
   "outputs": [],
   "source": [
    "experiment_name = (\n",
    "    \"run-sac-characteristic-array-rew-details-y_42_20240630-191219-tag-train_lens_stat_mean.csv\"\n",
    ")\n",
    "experiment_path = os.path.join(experiments_dir, experiment_name)\n",
    "df = pd.read_csv(experiment_path)\n",
    "\n",
    "# Simple Matplotlib plot\n",
    "plt.plot(df[\"Step\"], df[\"Value\"])\n",
    "plt.xlabel(\"Step\")\n",
    "plt.ylabel(\"Value\")\n",
    "plt.title(\"Plot Title\")\n",
    "plt.show()\n",
    "\n",
    "# Seaborn plot for enhanced aesthetics\n",
    "sns.lineplot(data=df, x=\"Step\", y=\"Value\")\n",
    "plt.show()"
   ]
  },
  {
   "cell_type": "markdown",
   "id": "73f6a4b6dcf4fc14",
   "metadata": {},
   "source": []
  }
 ],
 "metadata": {
  "kernelspec": {
   "display_name": "Python 3",
   "language": "python",
   "name": "python3"
  },
  "language_info": {
   "codemirror_mode": {
    "name": "ipython",
    "version": 2
   },
   "file_extension": ".py",
   "mimetype": "text/x-python",
   "name": "python",
   "nbconvert_exporter": "python",
   "pygments_lexer": "ipython2",
   "version": "2.7.6"
  }
 },
 "nbformat": 4,
 "nbformat_minor": 5
}
