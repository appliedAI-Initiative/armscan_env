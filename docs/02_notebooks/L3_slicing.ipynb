{
 "cells": [
  {
   "cell_type": "markdown",
   "metadata": {},
   "source": [
    "# Arbitrary Slicing"
   ]
  },
  {
   "cell_type": "code",
   "execution_count": null,
   "metadata": {
    "tags": [
     "remove-cell"
    ]
   },
   "outputs": [],
   "source": [
    "%load_ext autoreload\n",
    "%autoreload 2"
   ]
  },
  {
   "cell_type": "code",
   "execution_count": null,
   "metadata": {
    "tags": [
     "hide-cell"
    ]
   },
   "outputs": [],
   "source": [
    "import os\n",
    "\n",
    "import matplotlib.pyplot as plt\n",
    "import numpy as np\n",
    "import SimpleITK as sitk"
   ]
  },
  {
   "cell_type": "code",
   "execution_count": null,
   "metadata": {
    "tags": [
     "remove-cell"
    ]
   },
   "outputs": [],
   "source": [
    "# TODO: use a config for files, e.g., by using accsr"
   ]
  },
  {
   "cell_type": "code",
   "execution_count": null,
   "metadata": {},
   "outputs": [],
   "source": [
    "path_to_mri = os.path.join(\"../..\", \"data\", \"labels\", \"00001_labels.nii\")\n",
    "volume = sitk.ReadImage(path_to_mri)\n",
    "img_array = sitk.GetArrayFromImage(volume)\n",
    "print(f\"{img_array.shape=}\")"
   ]
  },
  {
   "cell_type": "code",
   "execution_count": null,
   "metadata": {},
   "outputs": [],
   "source": [
    "slice_num = 670\n",
    "slice = img_array[:, slice_num, :]\n",
    "plt.imshow(slice, aspect=6)\n",
    "plt.show()"
   ]
  },
  {
   "cell_type": "markdown",
   "metadata": {},
   "source": [
    "It is important to note that the shape of the data changes when transformed from a SimpleITK image to a numpy array. The original shape of the image is (z, y, x), but the numpy array has the shape (x, y, z). This is important to keep in mind when indexing the array. The origin of the image is also important, as it defines the position of the image in the 3D space."
   ]
  },
  {
   "cell_type": "code",
   "execution_count": null,
   "metadata": {},
   "outputs": [],
   "source": [
    "volume_size = volume.GetSize()\n",
    "img_size = img_array.shape\n",
    "volume_origin = volume.GetOrigin()\n",
    "\n",
    "print(f\" {volume_size=},\\n {img_size=},\\n {volume_origin=}\")"
   ]
  },
  {
   "cell_type": "markdown",
   "metadata": {},
   "source": [
    "In this notebook we are going to present a re-slicing algorithm to take arbitrary slices of the 3D volume. The algorithm is based on Euler's transformation and SimpleITK's resampler. The first step is to define an Euler transformation with the angles of rotation and the array of translation. This transformation matrix simulates the position and orientation of an ultrasound probe, scanning the arm to get a 2D image."
   ]
  },
  {
   "cell_type": "code",
   "execution_count": null,
   "metadata": {},
   "outputs": [],
   "source": [
    "# Euler's transformation\n",
    "# Rotation is defined by three rotations around z1, x2, z2 axis\n",
    "th_z = np.deg2rad(20)\n",
    "th_x = np.deg2rad(0)\n",
    "x_trans = 0\n",
    "y_trans = 140\n",
    "\n",
    "# Translation vector\n",
    "o = np.array(volume_origin)\n",
    "\n",
    "# transformation simplified at th_y=0 since this rotation is never performed\n",
    "eul_tr = np.array(\n",
    "    [\n",
    "        [np.cos(th_z), -np.sin(th_z) * np.cos(th_x), np.sin(th_z) * np.sin(th_x), o[0] + x_trans],\n",
    "        [np.sin(th_z), np.cos(th_z) * np.cos(th_x), -np.cos(th_z) * np.sin(th_x), o[1] + y_trans],\n",
    "        [0, np.sin(th_x), np.cos(th_x), o[2]],\n",
    "        [0, 0, 0, 1],\n",
    "    ],\n",
    ")"
   ]
  },
  {
   "cell_type": "markdown",
   "metadata": {},
   "source": [
    "After that, we define the coordinate system of the plane of the slice to take. The x and y coordinates are defined by the first two columns of the transformation matrix, and the normal vector of the plane is defined by the third column. The origin of the plane is defined by the last column of the transformation matrix, hence the translation from the image origin."
   ]
  },
  {
   "cell_type": "code",
   "execution_count": null,
   "metadata": {},
   "outputs": [],
   "source": [
    "# Define plane's coordinate system\n",
    "e1 = eul_tr[0][:3]  # x-coordinate of image plane\n",
    "e2 = eul_tr[1][:3]  # y-coordinate of image plane\n",
    "e3 = eul_tr[2][:3]  # normal vector of image plane\n",
    "origin = eul_tr[:, -1:].flatten()[:3]  # origin of the image plane\n",
    "\n",
    "print(f\" {e1=},\\n {e2=},\\n {e3=},\\n {origin=}\")\n",
    "\n",
    "# Direction for the resampler will be (e1, e2, e3) flattened\n",
    "direction = np.stack([e1, e2, e3], axis=0).flatten()\n",
    "print(f\" {direction=}\")"
   ]
  },
  {
   "cell_type": "markdown",
   "metadata": {},
   "source": [
    "The height of the image plane is defined by the original image height, divided by the cosine of the x-rotation. The width of the image plane is defined by the original x size divided by the cosine of the z-rotation."
   ]
  },
  {
   "cell_type": "code",
   "execution_count": null,
   "metadata": {},
   "outputs": [],
   "source": [
    "# Define the size and resolution of the output image\n",
    "# height of the image plane: original z size divided by the z component of the normal vector\n",
    "# (cosine of the angle between the normal vector and the z axis: x-rotation)\n",
    "h = int(abs(volume_size[2] // e3[2]))\n",
    "# width of the image plane: original x size divided by the x component of the normal vector\n",
    "# (cosine of the angle between the normal vector and the x axis: z-rotation)\n",
    "w = int(abs(volume_size[0] // e1[0]))\n",
    "\n",
    "\n",
    "print(f\" {h=},\\n {w=}\")"
   ]
  },
  {
   "cell_type": "markdown",
   "metadata": {},
   "source": [
    "Finally, we use SimpleITK's resampler to take the slice of the volume. We set the output direction, origin, and spacing to the ones defined by the plane. The size of the output image is defined by the width and height of the plane, and has a depth of 3 for visualization purposes when fed back into a volume renderer like ImFusion. The interpolator is set to nearest neighbor, since our label space is discrete."
   ]
  },
  {
   "cell_type": "code",
   "execution_count": null,
   "metadata": {},
   "outputs": [],
   "source": [
    "# Use SimpleITK's resampler\n",
    "resampler = sitk.ResampleImageFilter()\n",
    "# Extract properties from the SimpleITK Image\n",
    "spacing = volume.GetSpacing()\n",
    "\n",
    "# use reference image\n",
    "resampler.SetOutputDirection(direction.tolist())\n",
    "resampler.SetOutputOrigin(origin.tolist())\n",
    "resampler.SetOutputSpacing(spacing)\n",
    "resampler.SetSize((w, 3, h))\n",
    "resampler.SetInterpolator(sitk.sitkNearestNeighbor)"
   ]
  },
  {
   "cell_type": "markdown",
   "metadata": {},
   "source": [
    "The output of the resampler is a 3D image, which we can convert to a numpy array and visualize. We can check that the value range corresponds to that of the labelmap. We can also save the image has a .nii file for further visualization on a volume renderer."
   ]
  },
  {
   "cell_type": "code",
   "execution_count": null,
   "metadata": {},
   "outputs": [],
   "source": [
    "sliced_volume = resampler.Execute(volume)\n",
    "\n",
    "sliced_img = sitk.GetArrayFromImage(sliced_volume)\n",
    "sliced_volume_size = sliced_volume.GetSize()\n",
    "sliced_img_size = sliced_img.shape\n",
    "\n",
    "print(f\"Slice value range: {np.min(sliced_img)} - {np.max(sliced_img)}\")\n",
    "print(f\" {sliced_volume_size=},\\n {volume_size=},\\n {sliced_img_size=},\\n {img_size=}\")\n",
    "\n",
    "output_path = os.path.join(\"../..\", \"data\", \"outputs\", \"sliced_volume.nii.gz\")\n",
    "sitk.WriteImage(sliced_volume, output_path)"
   ]
  },
  {
   "cell_type": "markdown",
   "metadata": {},
   "source": [
    "We can now visualize the slice in a new orientation."
   ]
  },
  {
   "cell_type": "code",
   "execution_count": null,
   "metadata": {},
   "outputs": [],
   "source": [
    "slice = sliced_img[:, 0, :]\n",
    "plt.imshow(slice, aspect=6)\n",
    "plt.show()"
   ]
  },
  {
   "cell_type": "code",
   "execution_count": null,
   "metadata": {},
   "outputs": [],
   "source": [
    "from armscan_env.slicing import slice_volume\n",
    "\n",
    "sliced_volume = slice_volume(\n",
    "    z_rotation=19.3,\n",
    "    x_rotation=0.0,\n",
    "    x_trans=0.0,\n",
    "    y_trans=140.0,\n",
    "    volume=volume,\n",
    ")\n",
    "sliced_img = sitk.GetArrayFromImage(sliced_volume)\n",
    "print(f\"Slice value range: {np.min(sliced_img)} - {np.max(sliced_img)}\")\n",
    "# TODO: Don't use os-dependent, hardcoded paths\n",
    "sitk.WriteImage(sliced_volume, output_path)\n",
    "\n",
    "slice = sliced_img[:, 0, :]\n",
    "plt.imshow(slice, aspect=6)\n",
    "plt.show()"
   ]
  },
  {
   "cell_type": "code",
   "execution_count": null,
   "metadata": {
    "tags": []
   },
   "outputs": [],
   "source": [
    "from celluloid import Camera\n",
    "\n",
    "# Demonstration of arbitrary slicing\n",
    "t = [160, 155, 150, 148, 146, 142, 140, 140, 115, 120, 125, 125, 130, 130, 135, 138, 140, 140, 140]\n",
    "z = [0, -5, 0, 0, 5, 15, 19.3, -10, 0, 0, 0, 5, -8, 8, 0, -10, -10, 10, 19.3]\n",
    "\n",
    "# Create figure and subplots\n",
    "fig, (ax1, ax2) = plt.subplots(1, 2, figsize=(8, 6))\n",
    "camera = Camera(fig)\n",
    "\n",
    "\n",
    "# Sample functions for demonstration\n",
    "def linear_function(x: np.ndarray, m: float, b: float) -> np.ndarray:\n",
    "    return m * x + b\n",
    "\n",
    "\n",
    "for i in range(len(t)):\n",
    "    # Subplot 1: Image with dashed line\n",
    "    ax1.imshow(img_array[40, :, :])\n",
    "    x_dash = np.arange(img_array.shape[2])\n",
    "    b = volume.TransformPhysicalPointToIndex([o[0], o[1] + t[i], o[2]])[1]\n",
    "    y_dash = linear_function(x_dash, np.tan(np.deg2rad(z[i])), b)\n",
    "    ax1.set_title(f\"Section {i}\")\n",
    "    line = ax1.plot(x_dash, y_dash, linestyle=\"--\", color=\"red\")[0]\n",
    "\n",
    "    # Subplot 2: Function image\n",
    "    sliced_volume = slice_volume(volume=volume, z_rotation=z[i], x_rotation=0, y_trans=t[i])\n",
    "    sliced_img = sitk.GetArrayFromImage(sliced_volume)[:, 0, :]\n",
    "    ax2.set_title(f\"Slice {i}\")\n",
    "    slice_img = ax2.imshow(sliced_img, aspect=6)\n",
    "\n",
    "    camera.snap()\n",
    "    plt.close()\n",
    "\n",
    "animation = camera.animate()\n",
    "plt.rcParams[\"animation.html\"] = \"jshtml\"\n",
    "animation  # noqa: B018"
   ]
  }
 ],
 "metadata": {
  "kernelspec": {
   "display_name": "med_im",
   "language": "python",
   "name": "python3"
  },
  "language_info": {
   "codemirror_mode": {
    "name": "ipython",
    "version": 3
   },
   "file_extension": ".py",
   "mimetype": "text/x-python",
   "name": "python",
   "nbconvert_exporter": "python",
   "pygments_lexer": "ipython3",
   "version": "3.9.18"
  }
 },
 "nbformat": 4,
 "nbformat_minor": 2
}
