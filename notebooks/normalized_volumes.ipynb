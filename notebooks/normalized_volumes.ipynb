{
 "cells": [
  {
   "cell_type": "code",
   "execution_count": null,
   "id": "ecaf94d658c47deb",
   "metadata": {},
   "outputs": [],
   "source": [
    "%load_ext autoreload\n",
    "%autoreload 2\n",
    "\n",
    "import matplotlib.pyplot as plt\n",
    "import numpy as np\n",
    "import SimpleITK as sitk\n",
    "from armscan_env import config\n",
    "from armscan_env.volumes.loading import load_sitk_volumes, resize_sitk_volume\n",
    "\n",
    "config = config.get_config()"
   ]
  },
  {
   "cell_type": "code",
   "execution_count": null,
   "id": "a468f5f6f4c63d26",
   "metadata": {},
   "outputs": [],
   "source": [
    "volumes = load_sitk_volumes(normalize=False)"
   ]
  },
  {
   "cell_type": "code",
   "execution_count": null,
   "id": "185cb662e1b4c9cd",
   "metadata": {},
   "outputs": [],
   "source": [
    "normalized_volumes = resize_sitk_volume(volumes)"
   ]
  },
  {
   "cell_type": "code",
   "execution_count": null,
   "id": "f0711576d1591e1e",
   "metadata": {},
   "outputs": [],
   "source": [
    "print(volumes[5].GetSize())\n",
    "print(normalized_volumes[1].GetSize())"
   ]
  },
  {
   "cell_type": "code",
   "execution_count": null,
   "id": "96a75fa203718430",
   "metadata": {},
   "outputs": [],
   "source": [
    "volume = normalized_volumes[6]\n",
    "array = sitk.GetArrayFromImage(volume)\n",
    "print(f\"Slice value range: {np.min(array)} - {np.max(array)}\")"
   ]
  },
  {
   "cell_type": "code",
   "execution_count": null,
   "id": "a3c66c97f44e6e79",
   "metadata": {},
   "outputs": [],
   "source": [
    "from armscan_env.clustering import TissueClusters\n",
    "from armscan_env.envs.rewards import anatomy_based_rwd\n",
    "from armscan_env.envs.state_action import ManipulatorAction\n",
    "from armscan_env.util.visualizations import show_clusters\n",
    "\n",
    "action = ManipulatorAction(rotation=(-3, 0), translation=(0, 178))\n",
    "x_size_2, y_size_2, z_size_2 = (\n",
    "    sz * sp for sz, sp in zip(volume.GetSize(), volume.GetSpacing(), strict=True)\n",
    ")\n",
    "extent_xy_2 = (0, x_size_2, y_size_2, 0)\n",
    "\n",
    "spacing = volume.GetSpacing()\n",
    "plt.imshow(array[33, :, :], extent=extent_xy_2)\n",
    "\n",
    "o = volume.GetOrigin()\n",
    "x_dash = np.arange(x_size_2)\n",
    "b = action.translation[1]\n",
    "y_dash = x_dash * np.tan(np.deg2rad(action.rotation[0])) + b\n",
    "plt.plot(x_dash, y_dash, linestyle=\"--\", color=\"red\")\n",
    "\n",
    "plt.show()"
   ]
  },
  {
   "cell_type": "code",
   "execution_count": null,
   "id": "4bbd55164937cbbe",
   "metadata": {},
   "outputs": [],
   "source": [
    "slice_shape = (volume.GetSize()[0], volume.GetSize()[2])\n",
    "sliced_volume = volume.get_volume_slice(\n",
    "    slice_shape=slice_shape,\n",
    "    action=action,\n",
    ")\n",
    "sliced_img = sitk.GetArrayFromImage(sliced_volume)\n",
    "cluster = TissueClusters.from_labelmap_slice(sliced_img.T)\n",
    "show_clusters(cluster, sliced_img.T, aspect=4)\n",
    "plt.show()"
   ]
  },
  {
   "cell_type": "code",
   "execution_count": null,
   "id": "b7b8d2c53c0a690a",
   "metadata": {},
   "outputs": [],
   "source": [
    "reward = anatomy_based_rwd(cluster)\n",
    "print(reward)"
   ]
  },
  {
   "cell_type": "code",
   "execution_count": null,
   "id": "1ac318751be6d064",
   "metadata": {},
   "outputs": [],
   "source": []
  }
 ],
 "metadata": {
  "kernelspec": {
   "display_name": "Python 3",
   "language": "python",
   "name": "python3"
  },
  "language_info": {
   "codemirror_mode": {
    "name": "ipython",
    "version": 2
   },
   "file_extension": ".py",
   "mimetype": "text/x-python",
   "name": "python",
   "nbconvert_exporter": "python",
   "pygments_lexer": "ipython2",
   "version": "2.7.6"
  }
 },
 "nbformat": 4,
 "nbformat_minor": 5
}
