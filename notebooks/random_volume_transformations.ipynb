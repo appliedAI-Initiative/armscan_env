{
 "cells": [
  {
   "metadata": {},
   "cell_type": "code",
   "source": [
    "%load_ext autoreload\n",
    "%autoreload 2"
   ],
   "id": "60c69d9345beb9d0",
   "outputs": [],
   "execution_count": null
  },
  {
   "metadata": {},
   "cell_type": "code",
   "source": [
    "import matplotlib.pyplot as plt\n",
    "import numpy as np\n",
    "import SimpleITK as sitk\n",
    "from armscan_env import config\n",
    "from armscan_env.clustering import TissueClusters\n",
    "from armscan_env.envs.state_action import ManipulatorAction\n",
    "from armscan_env.util.visualizations import show_clusters\n",
    "from armscan_env.volumes.slicing import (\n",
    "    EulerTransform,\n",
    "    create_transformed_volume,\n",
    "    get_volume_slice,\n",
    ")\n",
    "\n",
    "config = config.get_config()"
   ],
   "id": "bf5c60e86d1e8e19",
   "outputs": [],
   "execution_count": null
  },
  {
   "metadata": {},
   "cell_type": "code",
   "source": [
    "volume = sitk.ReadImage(config.get_labels_path(1))\n",
    "volume_img = sitk.GetArrayFromImage(volume)\n",
    "plt.imshow(volume_img[40, :, :])\n",
    "action = ManipulatorAction(rotation=(19, 0), translation=(0, 140))\n",
    "\n",
    "o = volume.GetOrigin()\n",
    "x_dash = np.arange(volume_img.shape[2])\n",
    "b = volume.TransformPhysicalPointToIndex([o[0], o[1] + action.translation[1], o[2]])[1]\n",
    "y_dash = x_dash * np.tan(np.deg2rad(action.rotation[0])) + b\n",
    "plt.plot(x_dash, y_dash, linestyle=\"--\", color=\"red\")\n",
    "\n",
    "plt.show()"
   ],
   "id": "ae347cf3897968a6",
   "outputs": [],
   "execution_count": null
  },
  {
   "metadata": {},
   "cell_type": "code",
   "source": [
    "sliced_volume = get_volume_slice(\n",
    "    action=action,\n",
    "    volume=volume,\n",
    "    slice_shape=(volume.GetSize()[0], volume.GetSize()[2]),\n",
    ")\n",
    "sliced_img = sitk.GetArrayFromImage(sliced_volume)[:, 0, :]\n",
    "print(f\"Slice value range: {np.min(sliced_img)} - {np.max(sliced_img)}\")\n",
    "\n",
    "slice = sliced_img\n",
    "plt.imshow(slice, aspect=6)\n",
    "plt.show()"
   ],
   "id": "cb9c333a74781d5a",
   "outputs": [],
   "execution_count": null
  },
  {
   "metadata": {},
   "cell_type": "code",
   "source": [
    "volume_transformation = ManipulatorAction(rotation=(19, 0), translation=(15, 15))\n",
    "transformed_volume = create_transformed_volume(volume, volume_transformation)\n",
    "transformed_action = EulerTransform(volume_transformation).transform_action(action)"
   ],
   "id": "26ffcc6d7dece611",
   "outputs": [],
   "execution_count": null
  },
  {
   "metadata": {},
   "cell_type": "code",
   "source": [
    "transformed_img = sitk.GetArrayFromImage(transformed_volume)\n",
    "plt.imshow(transformed_img[40, :, :])\n",
    "\n",
    "ot = transformed_volume.GetOrigin()\n",
    "x_dash = np.arange(transformed_img.shape[2])\n",
    "b = volume.TransformPhysicalPointToIndex([o[0], o[1] + transformed_action.translation[1], o[2]])[1]\n",
    "y_dash = x_dash * np.tan(np.deg2rad(transformed_action.rotation[0])) + b\n",
    "plt.plot(x_dash, y_dash, linestyle=\"--\", color=\"red\")\n",
    "\n",
    "plt.show()"
   ],
   "id": "db20a3ff9556e8b4",
   "outputs": [],
   "execution_count": null
  },
  {
   "metadata": {},
   "cell_type": "code",
   "source": [
    "sliced_transformed_volume = get_volume_slice(\n",
    "    action=transformed_action,\n",
    "    volume=transformed_volume,\n",
    "    slice_shape=(volume.GetSize()[0], volume.GetSize()[2]),\n",
    ")\n",
    "sliced_img = sitk.GetArrayFromImage(sliced_transformed_volume)[:, 0, :]\n",
    "print(f\"Slice value range: {np.min(sliced_img)} - {np.max(sliced_img)}\")\n",
    "\n",
    "slice = sliced_img\n",
    "plt.imshow(slice, aspect=6)\n",
    "plt.show()"
   ],
   "id": "acda09e94c3f2f2b",
   "outputs": [],
   "execution_count": null
  },
  {
   "metadata": {},
   "cell_type": "code",
   "source": [
    "volume_2 = sitk.ReadImage(config.get_labels_path(2))\n",
    "volume_2_img = sitk.GetArrayFromImage(volume_2)\n",
    "spacing = volume_2.GetSpacing()\n",
    "plt.imshow(volume_2_img[51, :, :])\n",
    "action_2 = ManipulatorAction(rotation=(5, 0), translation=(0, 112))\n",
    "\n",
    "o = volume_2.GetOrigin()\n",
    "x_dash = np.arange(volume_2_img.shape[2])\n",
    "b = volume_2.TransformPhysicalPointToIndex([o[0], o[1] + action_2.translation[1], o[2]])[1]\n",
    "y_dash = x_dash * np.tan(np.deg2rad(action_2.rotation[0])) + b\n",
    "plt.plot(x_dash, y_dash, linestyle=\"--\", color=\"red\")\n",
    "\n",
    "plt.show()"
   ],
   "id": "fb6cfecff1cb7cd4",
   "outputs": [],
   "execution_count": null
  },
  {
   "metadata": {},
   "cell_type": "code",
   "source": [
    "sliced_volume_2 = get_volume_slice(\n",
    "    action=action_2,\n",
    "    volume=volume_2,\n",
    "    slice_shape=(volume_2.GetSize()[0], volume_2.GetSize()[2]),\n",
    ")\n",
    "sliced_img_2 = sitk.GetArrayFromImage(sliced_volume_2)[:, 0, :]\n",
    "np.save(\"./array\", sliced_img_2)\n",
    "\n",
    "cluster = TissueClusters.from_labelmap_slice(sliced_img_2.T)\n",
    "show_clusters(cluster, sliced_img_2.T, aspect=spacing[2] / spacing[0])\n",
    "\n",
    "plt.show()"
   ],
   "id": "6462b823c7903838",
   "outputs": [],
   "execution_count": null
  }
 ],
 "metadata": {
  "kernelspec": {
   "display_name": "Python 3",
   "language": "python",
   "name": "python3"
  },
  "language_info": {
   "codemirror_mode": {
    "name": "ipython",
    "version": 2
   },
   "file_extension": ".py",
   "mimetype": "text/x-python",
   "name": "python",
   "nbconvert_exporter": "python",
   "pygments_lexer": "ipython2",
   "version": "2.7.6"
  }
 },
 "nbformat": 4,
 "nbformat_minor": 5
}
