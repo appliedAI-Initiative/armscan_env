{
 "cells": [
  {
   "cell_type": "markdown",
   "id": "ad96e9219242767a",
   "metadata": {},
   "source": [
    "# Plotting experiments"
   ]
  },
  {
   "cell_type": "code",
   "execution_count": null,
   "id": "ee0abd69add1b729",
   "metadata": {},
   "outputs": [],
   "source": [
    "import os.path\n",
    "\n",
    "import matplotlib.pyplot as plt\n",
    "import pandas as pd\n",
    "from scipy.ndimage import gaussian_filter1d"
   ]
  },
  {
   "cell_type": "code",
   "execution_count": null,
   "id": "14c4e3fd775638c7",
   "metadata": {},
   "outputs": [],
   "source": [
    "file_dir = os.path.dirname(__file__) if \"__file__\" in locals() else os.getcwd()\n",
    "experiments_dir = os.path.join(file_dir, os.pardir, \"data/experiments\")"
   ]
  },
  {
   "cell_type": "markdown",
   "id": "b53de736afa734b",
   "metadata": {},
   "source": [
    "# 1D - Easy"
   ]
  },
  {
   "cell_type": "code",
   "execution_count": null,
   "id": "8544ad1af0e2bec2",
   "metadata": {},
   "outputs": [],
   "source": [
    "dof_exp_dir = os.path.join(experiments_dir, \"1-DoF\")\n",
    "experiment_name_1 = \"run-sac-characteristic-array-rew-details-y_42_20240628-183630-tag-\"\n",
    "experiment_name_2 = \"run-sac-characteristic-array-rew-details-y_42_20240630-191219-tag-\"\n",
    "experiment_name_3 = \"run-sac-characteristic-array-rew-details-y_42_20240722-162357-tag-\""
   ]
  },
  {
   "cell_type": "code",
   "execution_count": null,
   "id": "31849b1481a3a0ed",
   "metadata": {},
   "outputs": [],
   "source": [
    "experiment_path_1 = os.path.join(dof_exp_dir, experiment_name_1 + \"train_lens_stat_mean.csv\")\n",
    "experiment_path_2 = os.path.join(dof_exp_dir, experiment_name_2 + \"train_lens_stat_mean.csv\")\n",
    "experiment_path_3 = os.path.join(dof_exp_dir, experiment_name_3 + \"train_lens_stat_mean.csv\")\n",
    "df_1 = pd.read_csv(experiment_path_1)\n",
    "df_2 = pd.read_csv(experiment_path_2)\n",
    "df_3 = pd.read_csv(experiment_path_3)\n",
    "df_1 = df_1[df_1[\"Step\"] <= 500000]\n",
    "df_2 = df_2[df_2[\"Step\"] <= 500000]\n",
    "df_3 = df_3[df_3[\"Step\"] <= 500000]\n",
    "\n",
    "# Simple Matplotlib plot\n",
    "fig = plt.figure(figsize=(8, 4))\n",
    "plt.style.use(\"default\")\n",
    "plt.plot(df_1[\"Step\"], df_1[\"Value\"])\n",
    "plt.plot(df_2[\"Step\"], df_2[\"Value\"])\n",
    "plt.plot(df_3[\"Step\"], df_3[\"Value\"])\n",
    "plt.xlabel(\"Training Steps\")\n",
    "plt.ylabel(\"Steps/Episodes\")\n",
    "plt.title(\"Mean Episode Length\")\n",
    "plt.legend([\"1 Volume\", \"2 Volumes\", \"8 Volumes\"])\n",
    "plt.show()"
   ]
  },
  {
   "cell_type": "code",
   "execution_count": null,
   "id": "3bf028696a52d592",
   "metadata": {},
   "outputs": [],
   "source": [
    "experiment_path_1 = os.path.join(dof_exp_dir, experiment_name_1 + \"train_lens_stat_max.csv\")\n",
    "experiment_path_2 = os.path.join(dof_exp_dir, experiment_name_2 + \"train_lens_stat_max.csv\")\n",
    "experiment_path_3 = os.path.join(dof_exp_dir, experiment_name_3 + \"train_lens_stat_max.csv\")\n",
    "df_1 = pd.read_csv(experiment_path_1)\n",
    "df_2 = pd.read_csv(experiment_path_2)\n",
    "df_3 = pd.read_csv(experiment_path_3)\n",
    "df_1 = df_1[df_1[\"Step\"] <= 500000]\n",
    "df_2 = df_2[df_2[\"Step\"] <= 500000]\n",
    "df_3 = df_3[df_3[\"Step\"] <= 500000]\n",
    "\n",
    "# Apply Gaussian smoothing\n",
    "df_1[\"Smoothed\"] = gaussian_filter1d(df_1[\"Value\"], sigma=3)\n",
    "df_2[\"Smoothed\"] = gaussian_filter1d(df_2[\"Value\"], sigma=3)\n",
    "df_3[\"Smoothed\"] = gaussian_filter1d(df_3[\"Value\"], sigma=3)\n",
    "\n",
    "# Simple Matplotlib plot\n",
    "fig = plt.figure(figsize=(8, 4))\n",
    "plt.style.use(\"default\")\n",
    "plt.plot(df_1[\"Step\"], df_1[\"Smoothed\"])\n",
    "plt.plot(df_2[\"Step\"], df_2[\"Smoothed\"])\n",
    "plt.plot(df_3[\"Step\"], df_3[\"Smoothed\"])\n",
    "plt.xlabel(\"Training Steps\")\n",
    "plt.ylabel(\"Steps/Episodes\")\n",
    "plt.title(\"Max Episode Length (Smoothed)\")\n",
    "plt.legend([\"1 Volume\", \"2 Volumes\", \"8 Volumes\"])\n",
    "plt.show()"
   ]
  },
  {
   "cell_type": "code",
   "execution_count": null,
   "id": "3c5482bf4531eccc",
   "metadata": {},
   "outputs": [],
   "source": [
    "experiment_path_1 = os.path.join(dof_exp_dir, experiment_name_1 + \"train_returns_stat_mean.csv\")\n",
    "experiment_path_2 = os.path.join(dof_exp_dir, experiment_name_2 + \"train_returns_stat_mean.csv\")\n",
    "experiment_path_3 = os.path.join(dof_exp_dir, experiment_name_3 + \"train_returns_stat_mean.csv\")\n",
    "df_1 = pd.read_csv(experiment_path_1)\n",
    "df_2 = pd.read_csv(experiment_path_2)\n",
    "df_3 = pd.read_csv(experiment_path_3)\n",
    "df_1 = df_1[df_1[\"Step\"] <= 500000]\n",
    "df_2 = df_2[df_2[\"Step\"] <= 500000]\n",
    "df_3 = df_3[df_3[\"Step\"] <= 500000]\n",
    "\n",
    "# Simple Matplotlib plot\n",
    "fig = plt.figure(figsize=(8, 4))\n",
    "plt.style.use(\"default\")\n",
    "plt.plot(df_1[\"Step\"], df_1[\"Value\"])\n",
    "plt.plot(df_2[\"Step\"], df_2[\"Value\"])\n",
    "plt.plot(df_3[\"Step\"], df_3[\"Value\"])\n",
    "plt.xlabel(\"Training Steps\")\n",
    "plt.ylabel(\"Return/Episode\")\n",
    "plt.title(\"Mean Episode Return\")\n",
    "plt.legend([\"1 Volume\", \"2 Volumes\", \"8 Volumes\"])\n",
    "plt.show()"
   ]
  },
  {
   "cell_type": "code",
   "execution_count": null,
   "id": "5fb3d77d6c21da8c",
   "metadata": {},
   "outputs": [],
   "source": [
    "experiment_path_1 = os.path.join(dof_exp_dir, experiment_name_1 + \"train_returns_stat_min.csv\")\n",
    "experiment_path_2 = os.path.join(dof_exp_dir, experiment_name_2 + \"train_returns_stat_min.csv\")\n",
    "experiment_path_3 = os.path.join(dof_exp_dir, experiment_name_3 + \"train_returns_stat_min.csv\")\n",
    "df_1 = pd.read_csv(experiment_path_1)\n",
    "df_2 = pd.read_csv(experiment_path_2)\n",
    "df_3 = pd.read_csv(experiment_path_3)\n",
    "df_1 = df_1[df_1[\"Step\"] <= 500000]\n",
    "df_2 = df_2[df_2[\"Step\"] <= 500000]\n",
    "df_3 = df_3[df_3[\"Step\"] <= 500000]\n",
    "# Apply Gaussian smoothing\n",
    "df_1[\"Smoothed\"] = gaussian_filter1d(df_1[\"Value\"], sigma=2)\n",
    "df_2[\"Smoothed\"] = gaussian_filter1d(df_2[\"Value\"], sigma=2)\n",
    "df_3[\"Smoothed\"] = gaussian_filter1d(df_3[\"Value\"], sigma=2)\n",
    "\n",
    "# Simple Matplotlib plot\n",
    "fig = plt.figure(figsize=(8, 4))\n",
    "plt.style.use(\"default\")\n",
    "plt.plot(df_1[\"Step\"], df_1[\"Smoothed\"])\n",
    "plt.plot(df_2[\"Step\"], df_2[\"Smoothed\"])\n",
    "plt.plot(df_3[\"Step\"], df_3[\"Smoothed\"])\n",
    "plt.xlabel(\"Training Steps\")\n",
    "plt.ylabel(\"Return/Episode\")\n",
    "plt.title(\"Min Episode Return (Smoothed)\")\n",
    "plt.legend([\"1 Volume\", \"2 Volumes\", \"8 Volumes\"])\n",
    "plt.show()"
   ]
  },
  {
   "cell_type": "markdown",
   "id": "cde071a24b4f9f87",
   "metadata": {},
   "source": [
    "# Comparison to Random Search\n"
   ]
  },
  {
   "cell_type": "code",
   "execution_count": null,
   "id": "f78ea56107fb187d",
   "metadata": {},
   "outputs": [],
   "source": [
    "dof_exp_dir_1 = os.path.join(experiments_dir, \"Rand\")\n",
    "experiment_name_1 = \"run-random-actions_42_20240814-155108-tag-\""
   ]
  },
  {
   "cell_type": "code",
   "execution_count": null,
   "id": "5fa668b66ee1f676",
   "metadata": {},
   "outputs": [],
   "source": [
    "experiment_path_1 = os.path.join(dof_exp_dir_1, experiment_name_1 + \"train_lens_stat_mean.csv\")\n",
    "df_1 = pd.read_csv(experiment_path_1)\n",
    "df_1 = df_1[df_1[\"Step\"] <= 2000000]\n",
    "\n",
    "df_1[\"Smoothed\"] = gaussian_filter1d(df_1[\"Value\"], sigma=1)\n",
    "rand_mean_1 = df_1[\"Smoothed\"].mean()\n",
    "\n",
    "fig, ax = plt.subplots(figsize=(8, 4))\n",
    "plt.style.use(\"default\")\n",
    "(line1,) = ax.plot(df_1[\"Step\"], df_1[\"Smoothed\"])\n",
    "ax.plot(df_1[\"Step\"], [rand_mean_1] * len(df_1[\"Step\"]), linestyle=\"--\", color=line1.get_color())\n",
    "plt.xlabel(\"Training Steps\")\n",
    "plt.ylabel(\"Steps/Episodes\")\n",
    "plt.title(\"Mean Episode Length (Smoothed)\")\n",
    "plt.legend([\"Random Agent\"])\n",
    "plt.show()"
   ]
  },
  {
   "cell_type": "code",
   "execution_count": null,
   "id": "4f6381ff8c446343",
   "metadata": {},
   "outputs": [],
   "source": [
    "experiment_path_1 = os.path.join(dof_exp_dir_1, experiment_name_1 + \"train_returns_stat_mean.csv\")\n",
    "df_1 = pd.read_csv(experiment_path_1)\n",
    "df_1 = df_1[df_1[\"Step\"] <= 2000000]\n",
    "\n",
    "df_1[\"Smoothed\"] = gaussian_filter1d(df_1[\"Value\"], sigma=1)\n",
    "rand_mean_2 = df_1[\"Smoothed\"].mean()\n",
    "\n",
    "fig, ax = plt.subplots(figsize=(8, 4))\n",
    "plt.style.use(\"default\")\n",
    "(line1,) = ax.plot(df_1[\"Step\"], df_1[\"Smoothed\"])\n",
    "ax.plot(df_1[\"Step\"], [rand_mean_2] * len(df_1[\"Step\"]), linestyle=\"--\", color=line1.get_color())\n",
    "plt.ylabel(\"Return/Episode\")\n",
    "plt.title(\"Mean Episode Return (Smoothed)\")\n",
    "plt.legend([\"Random Agent\"])\n",
    "plt.show()"
   ]
  },
  {
   "cell_type": "markdown",
   "id": "32811b87f88dec20",
   "metadata": {},
   "source": [
    "# 2D - Ugh!"
   ]
  },
  {
   "cell_type": "code",
   "execution_count": null,
   "id": "6e47fcde296fe45a",
   "metadata": {},
   "outputs": [],
   "source": [
    "dof_exp_dir = os.path.join(experiments_dir, \"2-DoF\")\n",
    "experiment_name_1 = \"run-sac-characteristic-array-rew-details-zy_42_20240714-111101-tag-\"\n",
    "experiment_name_2 = \"run-sac-characteristic-array-rew-details-zy_42_20240724-070219-tag-\""
   ]
  },
  {
   "cell_type": "code",
   "execution_count": null,
   "id": "750c3934cfd2fe89",
   "metadata": {},
   "outputs": [],
   "source": [
    "experiment_path_1 = os.path.join(dof_exp_dir, experiment_name_1 + \"train_lens_stat_mean.csv\")\n",
    "experiment_path_2 = os.path.join(dof_exp_dir, experiment_name_2 + \"train_lens_stat_mean.csv\")\n",
    "df_1 = pd.read_csv(experiment_path_1)\n",
    "df_2 = pd.read_csv(experiment_path_2)\n",
    "df_1 = df_1[df_1[\"Step\"] <= 1500000]\n",
    "df_2 = df_2[df_2[\"Step\"] <= 1500000]\n",
    "\n",
    "df_1[\"Smoothed\"] = gaussian_filter1d(df_1[\"Value\"], sigma=3)\n",
    "df_2[\"Smoothed\"] = gaussian_filter1d(df_2[\"Value\"], sigma=3)\n",
    "\n",
    "mean_1 = df_1[\"Smoothed\"].mean()\n",
    "mean_2 = df_2[\"Smoothed\"].mean()\n",
    "\n",
    "fig, ax = plt.subplots(figsize=(8, 4))\n",
    "plt.style.use(\"default\")\n",
    "(line1,) = ax.plot(df_1[\"Step\"], df_1[\"Smoothed\"])\n",
    "(line2,) = ax.plot(df_2[\"Step\"], df_2[\"Smoothed\"])\n",
    "ax.plot(df_1[\"Step\"], [rand_mean_1] * len(df_1[\"Step\"]), linestyle=\"--\")\n",
    "ax.plot(df_1[\"Step\"], [mean_1] * len(df_1[\"Step\"]), linestyle=\"--\", color=line1.get_color())\n",
    "ax.plot(df_2[\"Step\"], [mean_2] * len(df_2[\"Step\"]), linestyle=\"--\", color=line2.get_color())\n",
    "plt.xlabel(\"Training Steps\")\n",
    "plt.ylabel(\"Steps/Episodes\")\n",
    "plt.title(\"Mean Episode Length (Smoothed)\")\n",
    "plt.legend([\"2 Volumes\", \"8 Volumes\", \"Random mean\"])\n",
    "plt.show()"
   ]
  },
  {
   "cell_type": "code",
   "execution_count": null,
   "id": "1437a83722283637",
   "metadata": {},
   "outputs": [],
   "source": [
    "experiment_path_1 = os.path.join(dof_exp_dir, experiment_name_1 + \"train_lens_stat_max.csv\")\n",
    "experiment_path_2 = os.path.join(dof_exp_dir, experiment_name_2 + \"train_lens_stat_max.csv\")\n",
    "df_1 = pd.read_csv(experiment_path_1)\n",
    "df_2 = pd.read_csv(experiment_path_2)\n",
    "df_1 = df_1[df_1[\"Step\"] <= 1500000]\n",
    "df_2 = df_2[df_2[\"Step\"] <= 1500000]\n",
    "\n",
    "df_1[\"Smoothed\"] = gaussian_filter1d(df_1[\"Value\"], sigma=3)\n",
    "df_2[\"Smoothed\"] = gaussian_filter1d(df_2[\"Value\"], sigma=3)\n",
    "mean_1 = df_1[\"Smoothed\"].mean()\n",
    "mean_2 = df_2[\"Smoothed\"].mean()\n",
    "\n",
    "fig, ax = plt.subplots(figsize=(8, 4))\n",
    "plt.style.use(\"default\")\n",
    "(line1,) = ax.plot(df_1[\"Step\"], df_1[\"Smoothed\"])\n",
    "(line2,) = ax.plot(df_2[\"Step\"], df_2[\"Smoothed\"])\n",
    "ax.plot(df_1[\"Step\"], [mean_1] * len(df_1[\"Step\"]), linestyle=\"--\", color=line1.get_color())\n",
    "ax.plot(df_2[\"Step\"], [mean_2] * len(df_2[\"Step\"]), linestyle=\"--\", color=line2.get_color())\n",
    "plt.xlabel(\"Training Steps\")\n",
    "plt.ylabel(\"Steps/Episodes\")\n",
    "plt.title(\"Max Episode Length (Smoothed)\")\n",
    "plt.legend([\"2 Volumes\", \"8 Volumes\"])\n",
    "plt.show()"
   ]
  },
  {
   "cell_type": "code",
   "execution_count": null,
   "id": "eb1bcf93e455cf6f",
   "metadata": {},
   "outputs": [],
   "source": [
    "experiment_path_1 = os.path.join(dof_exp_dir, experiment_name_1 + \"train_returns_stat_mean.csv\")\n",
    "experiment_path_2 = os.path.join(dof_exp_dir, experiment_name_2 + \"train_returns_stat_mean.csv\")\n",
    "df_1 = pd.read_csv(experiment_path_1)\n",
    "df_2 = pd.read_csv(experiment_path_2)\n",
    "df_1 = df_1[df_1[\"Step\"] <= 1500000]\n",
    "df_2 = df_2[df_2[\"Step\"] <= 1500000]\n",
    "\n",
    "df_1[\"Smoothed\"] = gaussian_filter1d(df_1[\"Value\"], sigma=3)\n",
    "df_2[\"Smoothed\"] = gaussian_filter1d(df_2[\"Value\"], sigma=3)\n",
    "mean_1 = df_1[\"Smoothed\"].mean()\n",
    "mean_2 = df_2[\"Smoothed\"].mean()\n",
    "\n",
    "fig, ax = plt.subplots(figsize=(8, 4))\n",
    "plt.style.use(\"default\")\n",
    "(line1,) = ax.plot(df_1[\"Step\"], df_1[\"Smoothed\"])\n",
    "(line2,) = ax.plot(df_2[\"Step\"], df_2[\"Smoothed\"])\n",
    "ax.plot(df_1[\"Step\"], [rand_mean_2] * len(df_1[\"Step\"]), linestyle=\"--\")\n",
    "ax.plot(df_1[\"Step\"], [mean_1] * len(df_1[\"Step\"]), linestyle=\"--\", color=line1.get_color())\n",
    "ax.plot(df_2[\"Step\"], [mean_2] * len(df_2[\"Step\"]), linestyle=\"--\", color=line2.get_color())\n",
    "plt.ylabel(\"Return/Episode\")\n",
    "plt.title(\"Mean Episode Return (Smoothed)\")\n",
    "plt.legend([\"2 Volumes\", \"8 Volumes\", \"Random mean\"])\n",
    "plt.show()"
   ]
  },
  {
   "cell_type": "code",
   "execution_count": null,
   "id": "6f0dc409410d3669",
   "metadata": {},
   "outputs": [],
   "source": [
    "experiment_path_1 = os.path.join(dof_exp_dir, experiment_name_1 + \"train_returns_stat_min.csv\")\n",
    "experiment_path_2 = os.path.join(dof_exp_dir, experiment_name_2 + \"train_returns_stat_min.csv\")\n",
    "df_1 = df_1[df_1[\"Step\"] <= 1500000]\n",
    "df_2 = df_2[df_2[\"Step\"] <= 1500000]\n",
    "\n",
    "df_1[\"Smoothed\"] = gaussian_filter1d(df_1[\"Value\"], sigma=3)\n",
    "df_2[\"Smoothed\"] = gaussian_filter1d(df_2[\"Value\"], sigma=3)\n",
    "mean_1 = df_1[\"Smoothed\"].mean()\n",
    "mean_2 = df_2[\"Smoothed\"].mean()\n",
    "\n",
    "fig, ax = plt.subplots(figsize=(8, 4))\n",
    "plt.style.use(\"default\")\n",
    "(line1,) = ax.plot(df_1[\"Step\"], df_1[\"Smoothed\"])\n",
    "(line2,) = ax.plot(df_2[\"Step\"], df_2[\"Smoothed\"])\n",
    "ax.plot(df_1[\"Step\"], [mean_1] * len(df_1[\"Step\"]), linestyle=\"--\", color=line1.get_color())\n",
    "ax.plot(df_2[\"Step\"], [mean_2] * len(df_2[\"Step\"]), linestyle=\"--\", color=line2.get_color())\n",
    "plt.xlabel(\"Training Steps\")\n",
    "plt.ylabel(\"Return/Episode\")\n",
    "plt.title(\"Min Episode Return (Smoothed)\")\n",
    "plt.legend([\"2 Volumes\", \"8 Volumes\"])\n",
    "plt.show()"
   ]
  },
  {
   "cell_type": "markdown",
   "id": "b9e91be56f1b413f",
   "metadata": {},
   "source": [
    "# Some memory might help"
   ]
  },
  {
   "cell_type": "code",
   "execution_count": null,
   "id": "4b8d5f734cdb508e",
   "metadata": {},
   "outputs": [],
   "source": [
    "dof_exp_dir_1 = os.path.join(experiments_dir, \"1-DoF\")\n",
    "dof_exp_dir_2 = os.path.join(experiments_dir, \"MemStack\")\n",
    "experiment_name_1 = \"run-sac-characteristic-array-rew-details-y_42_20240722-162357-tag-\"\n",
    "experiment_name_2 = \"run-sac-characteristic-array-4-rew-details-y_42_20240801-205846-tag-\""
   ]
  },
  {
   "cell_type": "code",
   "execution_count": null,
   "id": "259edad0f08c2c91",
   "metadata": {},
   "outputs": [],
   "source": [
    "experiment_path_1 = os.path.join(dof_exp_dir_1, experiment_name_1 + \"train_lens_stat_mean.csv\")\n",
    "experiment_path_2 = os.path.join(dof_exp_dir_2, experiment_name_2 + \"train_lens_stat_mean.csv\")\n",
    "df_1 = pd.read_csv(experiment_path_1)\n",
    "df_2 = pd.read_csv(experiment_path_2)\n",
    "df_1 = df_1[df_1[\"Step\"] <= 300000]\n",
    "df_2 = df_2[df_2[\"Step\"] <= 300000]\n",
    "\n",
    "df_2[\"Smoothed\"] = gaussian_filter1d(df_2[\"Value\"], sigma=1)\n",
    "\n",
    "fig = plt.figure(figsize=(8, 4))\n",
    "plt.style.use(\"default\")\n",
    "plt.plot(df_1[\"Step\"], df_1[\"Value\"])\n",
    "plt.plot(df_2[\"Step\"], df_2[\"Smoothed\"])\n",
    "plt.xlabel(\"Training Steps\")\n",
    "plt.ylabel(\"Steps/Episodes\")\n",
    "plt.title(\"Mean Episode Length (Smoothed)\")\n",
    "plt.legend([\"ActionRewardObs + 4M\", \"LabelmapClusterObs + 4M\"])\n",
    "plt.show()"
   ]
  },
  {
   "cell_type": "code",
   "execution_count": null,
   "id": "6f61f5d43676be75",
   "metadata": {},
   "outputs": [],
   "source": [
    "experiment_path_1 = os.path.join(dof_exp_dir_1, experiment_name_1 + \"train_returns_stat_mean.csv\")\n",
    "experiment_path_2 = os.path.join(dof_exp_dir_2, experiment_name_2 + \"train_returns_stat_mean.csv\")\n",
    "df_1 = pd.read_csv(experiment_path_1)\n",
    "df_2 = pd.read_csv(experiment_path_2)\n",
    "df_1 = df_1[df_1[\"Step\"] <= 300000]\n",
    "df_2 = df_2[df_2[\"Step\"] <= 300000]\n",
    "\n",
    "df_2[\"Smoothed\"] = gaussian_filter1d(df_2[\"Value\"], sigma=1)\n",
    "\n",
    "fig = plt.figure(figsize=(8, 4))\n",
    "plt.style.use(\"default\")\n",
    "plt.plot(df_1[\"Step\"], df_1[\"Value\"])\n",
    "plt.plot(df_2[\"Step\"], df_2[\"Smoothed\"])\n",
    "plt.ylabel(\"Return/Episode\")\n",
    "plt.title(\"Mean Episode Return (Smoothed)\")\n",
    "plt.legend([\"ActionRewardObs + 4M\", \"LabelmapClusterObs + 4M\"])\n",
    "plt.show()"
   ]
  },
  {
   "cell_type": "markdown",
   "id": "73f6a4b6dcf4fc14",
   "metadata": {},
   "source": []
  },
  {
   "cell_type": "markdown",
   "id": "c2dc1f9e5b61f67e",
   "metadata": {},
   "source": [
    "# 2D with memory - Mmh"
   ]
  },
  {
   "cell_type": "code",
   "execution_count": null,
   "id": "8cbea35e24e3b9cf",
   "metadata": {},
   "outputs": [],
   "source": [
    "dof_exp_dir_1 = os.path.join(experiments_dir, \"2-DoF\")\n",
    "dof_exp_dir_2 = os.path.join(experiments_dir, \"MemStack\")\n",
    "experiment_name_1 = \"run-sac-characteristic-array-rew-details-zy_42_20240724-070219-tag-\"\n",
    "experiment_name_2 = \"run-sac-characteristic-array-4-rew-details-zy_20240803-141214-tag-\""
   ]
  },
  {
   "cell_type": "code",
   "execution_count": null,
   "id": "f595d6c2bca1c2cc",
   "metadata": {},
   "outputs": [],
   "source": [
    "experiment_path_1 = os.path.join(dof_exp_dir_1, experiment_name_1 + \"train_lens_stat_mean.csv\")\n",
    "experiment_path_2 = os.path.join(dof_exp_dir_2, experiment_name_2 + \"train_lens_stat_mean.csv\")\n",
    "df_1 = pd.read_csv(experiment_path_1)\n",
    "df_2 = pd.read_csv(experiment_path_2)\n",
    "df_1 = df_1[df_1[\"Step\"] <= 1500000]\n",
    "df_2 = df_2[df_2[\"Step\"] <= 1500000]\n",
    "\n",
    "df_1[\"Smoothed\"] = gaussian_filter1d(df_1[\"Value\"], sigma=3)\n",
    "df_2[\"Smoothed\"] = gaussian_filter1d(df_2[\"Value\"], sigma=3)\n",
    "mean_1 = df_1[\"Smoothed\"].mean()\n",
    "mean_2 = df_2[\"Smoothed\"].mean()\n",
    "\n",
    "fig, ax = plt.subplots(figsize=(8, 4))\n",
    "plt.style.use(\"default\")\n",
    "(line1,) = ax.plot(df_1[\"Step\"], df_1[\"Smoothed\"])\n",
    "(line2,) = ax.plot(df_2[\"Step\"], df_2[\"Smoothed\"])\n",
    "ax.plot(df_1[\"Step\"], [rand_mean_1] * len(df_1[\"Step\"]), linestyle=\"--\")\n",
    "ax.plot(df_1[\"Step\"], [mean_1] * len(df_1[\"Step\"]), linestyle=\"--\", color=line1.get_color())\n",
    "ax.plot(df_2[\"Step\"], [mean_2] * len(df_2[\"Step\"]), linestyle=\"--\", color=line2.get_color())\n",
    "plt.xlabel(\"Training Steps\")\n",
    "plt.ylabel(\"Steps/Episodes\")\n",
    "plt.title(\"Mean Episode Length (Smoothed)\")\n",
    "plt.legend([\"LabelmapClusterObs\", \"ActionRewardObs + 4M\", \"Random mean\"])\n",
    "plt.show()"
   ]
  },
  {
   "cell_type": "code",
   "execution_count": null,
   "id": "7c98e70e55b8cb0d",
   "metadata": {},
   "outputs": [],
   "source": [
    "experiment_path_1 = os.path.join(dof_exp_dir_1, experiment_name_1 + \"train_returns_stat_mean.csv\")\n",
    "experiment_path_2 = os.path.join(dof_exp_dir_2, experiment_name_2 + \"train_returns_stat_mean.csv\")\n",
    "df_1 = pd.read_csv(experiment_path_1)\n",
    "df_2 = pd.read_csv(experiment_path_2)\n",
    "df_1 = df_1[df_1[\"Step\"] <= 1500000]\n",
    "df_2 = df_2[df_2[\"Step\"] <= 1500000]\n",
    "\n",
    "df_1[\"Smoothed\"] = gaussian_filter1d(df_1[\"Value\"], sigma=3)\n",
    "df_2[\"Smoothed\"] = gaussian_filter1d(df_2[\"Value\"], sigma=3)\n",
    "mean_1 = df_1[\"Smoothed\"].mean()\n",
    "mean_2 = df_2[\"Smoothed\"].mean()\n",
    "\n",
    "fig, ax = plt.subplots(figsize=(8, 4))\n",
    "plt.style.use(\"default\")\n",
    "(line1,) = ax.plot(df_1[\"Step\"], df_1[\"Smoothed\"])\n",
    "(line2,) = ax.plot(df_2[\"Step\"], df_2[\"Smoothed\"])\n",
    "ax.plot(df_1[\"Step\"], [rand_mean_2] * len(df_1[\"Step\"]), linestyle=\"--\")\n",
    "ax.plot(df_1[\"Step\"], [mean_1] * len(df_1[\"Step\"]), linestyle=\"--\", color=line1.get_color())\n",
    "ax.plot(df_2[\"Step\"], [mean_2] * len(df_2[\"Step\"]), linestyle=\"--\", color=line2.get_color())\n",
    "plt.ylabel(\"Return/Episode\")\n",
    "plt.title(\"Mean Episode Return (Smoothed)\")\n",
    "plt.legend([\"LabelmapClusterObs\", \"ActionRewardObs + 4M\", \"Random mean\"])\n",
    "plt.show()"
   ]
  },
  {
   "cell_type": "markdown",
   "id": "b36d0289e32f2ada",
   "metadata": {},
   "source": [
    "# PPO - DQN"
   ]
  },
  {
   "cell_type": "code",
   "execution_count": null,
   "id": "1b300850791a9978",
   "metadata": {},
   "outputs": [],
   "source": [
    "dof_exp_dir_1 = os.path.join(experiments_dir, \"PPO-DQN\")\n",
    "experiment_name_1 = \"run-ppo_42_4_stack-lin_sweep_v1_20240611-161932-tag-\""
   ]
  },
  {
   "cell_type": "code",
   "execution_count": null,
   "id": "186a8ee646650715",
   "metadata": {},
   "outputs": [],
   "source": [
    "experiment_path_1 = os.path.join(dof_exp_dir_1, experiment_name_1 + \"train_lens_stat_mean.csv\")\n",
    "df_1 = pd.read_csv(experiment_path_1)\n",
    "df_1 = df_1[df_1[\"Step\"] <= 2000000]\n",
    "\n",
    "df_1[\"Smoothed\"] = gaussian_filter1d(df_1[\"Value\"], sigma=3)\n",
    "\n",
    "fig, ax = plt.subplots(figsize=(8, 4))\n",
    "plt.style.use(\"default\")\n",
    "(line1,) = ax.plot(df_1[\"Step\"], df_1[\"Smoothed\"])\n",
    "plt.xlabel(\"Training Steps\")\n",
    "plt.ylabel(\"Steps/Episodes\")\n",
    "plt.title(\"Mean Episode Length (Smoothed)\")\n",
    "plt.legend([\"PPO - DQN\"])\n",
    "plt.show()"
   ]
  },
  {
   "cell_type": "code",
   "execution_count": null,
   "id": "a5a694b42dd33377",
   "metadata": {},
   "outputs": [],
   "source": [
    "experiment_path_1 = os.path.join(dof_exp_dir_1, experiment_name_1 + \"train_returns_stat_mean.csv\")\n",
    "df_1 = pd.read_csv(experiment_path_1)\n",
    "df_1 = df_1[df_1[\"Step\"] <= 2000000]\n",
    "\n",
    "df_1[\"Smoothed\"] = gaussian_filter1d(df_1[\"Value\"], sigma=3)\n",
    "\n",
    "fig, ax = plt.subplots(figsize=(8, 4))\n",
    "plt.style.use(\"default\")\n",
    "(line1,) = ax.plot(df_1[\"Step\"], df_1[\"Smoothed\"])\n",
    "plt.ylabel(\"Return/Episode\")\n",
    "plt.title(\"Mean Episode Return (Smoothed)\")\n",
    "plt.legend([\"PPO - DQN\"])\n",
    "plt.show()"
   ]
  },
  {
   "cell_type": "code",
   "execution_count": null,
   "id": "765fc6cd90ccc160",
   "metadata": {},
   "outputs": [],
   "source": []
  }
 ],
 "metadata": {
  "kernelspec": {
   "display_name": "Python 3",
   "language": "python",
   "name": "python3"
  },
  "language_info": {
   "codemirror_mode": {
    "name": "ipython",
    "version": 2
   },
   "file_extension": ".py",
   "mimetype": "text/x-python",
   "name": "python",
   "nbconvert_exporter": "python",
   "pygments_lexer": "ipython2",
   "version": "2.7.6"
  }
 },
 "nbformat": 4,
 "nbformat_minor": 5
}
