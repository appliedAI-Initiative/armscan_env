{
 "cells": [
  {
   "cell_type": "code",
   "execution_count": null,
   "id": "60c69d9345beb9d0",
   "metadata": {},
   "outputs": [],
   "source": [
    "%load_ext autoreload\n",
    "%autoreload 2"
   ]
  },
  {
   "cell_type": "code",
   "execution_count": null,
   "id": "bf5c60e86d1e8e19",
   "metadata": {},
   "outputs": [],
   "source": [
    "import matplotlib.pyplot as plt\n",
    "import numpy as np\n",
    "import SimpleITK as sitk\n",
    "from armscan_env import config\n",
    "from armscan_env.clustering import TissueClusters\n",
    "from armscan_env.envs.rewards import anatomy_based_rwd\n",
    "from armscan_env.envs.state_action import ManipulatorAction\n",
    "from armscan_env.util.visualizations import show_clusters\n",
    "from armscan_env.volumes.loading import load_sitk_volumes\n",
    "from armscan_env.volumes.volumes import TransformedVolume\n",
    "\n",
    "config = config.get_config()\n",
    "volumes = load_sitk_volumes(normalize=True)"
   ]
  },
  {
   "cell_type": "code",
   "execution_count": null,
   "id": "58c3c50872ffca22",
   "metadata": {},
   "outputs": [],
   "source": [
    "volume = volumes[4]\n",
    "volume_img = sitk.GetArrayFromImage(volume)\n",
    "\n",
    "x_size, y_size, z_size = (\n",
    "    sz * sp for sz, sp in zip(volume.GetSize(), volume.GetSpacing(), strict=True)\n",
    ")\n",
    "extent_xy = (0, x_size, y_size, 0)\n",
    "\n",
    "plt.imshow(volume_img[40, :, :], extent=extent_xy)\n",
    "\n",
    "o = volume.GetOrigin()\n",
    "x_dash = np.arange(x_size)\n",
    "b = volume.optimal_action.translation[1]\n",
    "y_dash = x_dash * np.tan(np.deg2rad(volume.optimal_action.rotation[0])) + b\n",
    "plt.plot(x_dash, y_dash, linestyle=\"--\", color=\"red\")\n",
    "\n",
    "plt.show()"
   ]
  },
  {
   "cell_type": "code",
   "execution_count": null,
   "id": "29c544e76d3f6144",
   "metadata": {},
   "outputs": [],
   "source": [
    "sliced_volume = volume.get_volume_slice(\n",
    "    action=volume.optimal_action,\n",
    "    slice_shape=(volume.GetSize()[0], volume.GetSize()[2]),\n",
    ")\n",
    "sliced_img = sitk.GetArrayFromImage(sliced_volume)\n",
    "print(f\"Slice value range: {np.min(sliced_img)} - {np.max(sliced_img)}\")\n",
    "\n",
    "extent_xz = (0, x_size, z_size, 0)\n",
    "cluster = TissueClusters.from_labelmap_slice(sliced_img.T)\n",
    "show_clusters(cluster, sliced_img.T)\n",
    "reward = anatomy_based_rwd(cluster)\n",
    "print(f\"Reward: {reward}\")\n",
    "plt.show()"
   ]
  },
  {
   "cell_type": "code",
   "execution_count": null,
   "id": "26ffcc6d7dece611",
   "metadata": {},
   "outputs": [],
   "source": [
    "volume_transformation = ManipulatorAction(\n",
    "    rotation=(-7.213170270886784, 0.0),\n",
    "    translation=(-7.31243280019082, 9.172539411055304),\n",
    ")\n",
    "transformed_volume = TransformedVolume.create_transformed_volume(volume, volume_transformation)\n",
    "transformed_action = transformed_volume.optimal_action\n",
    "print(f\"{volume.optimal_action=}\\n{transformed_volume.optimal_action=}\\n\")"
   ]
  },
  {
   "cell_type": "code",
   "execution_count": null,
   "id": "db20a3ff9556e8b4",
   "metadata": {},
   "outputs": [],
   "source": [
    "transformed_img = sitk.GetArrayFromImage(transformed_volume)\n",
    "\n",
    "plt.imshow(transformed_img[40, :, :], extent=extent_xy)\n",
    "\n",
    "ot = transformed_volume.GetOrigin()\n",
    "x_dash = np.arange(x_size)\n",
    "b = transformed_action.translation[1]\n",
    "y_dash = x_dash * np.tan(np.deg2rad(transformed_action.rotation[0])) + b\n",
    "plt.plot(x_dash, y_dash, linestyle=\"--\", color=\"red\")\n",
    "\n",
    "plt.show()"
   ]
  },
  {
   "cell_type": "code",
   "execution_count": null,
   "id": "acda09e94c3f2f2b",
   "metadata": {},
   "outputs": [],
   "source": [
    "sliced_transformed_volume = transformed_volume.get_volume_slice(\n",
    "    action=transformed_action,\n",
    "    slice_shape=(volume.GetSize()[0], volume.GetSize()[2]),\n",
    ")\n",
    "sliced_transformed_img = sitk.GetArrayFromImage(sliced_transformed_volume)\n",
    "print(f\"Slice value range: {np.min(sliced_transformed_img)} - {np.max(sliced_transformed_img)}\")\n",
    "\n",
    "cluster = TissueClusters.from_labelmap_slice(sliced_transformed_img.T)\n",
    "show_clusters(cluster, sliced_transformed_img.T)\n",
    "reward = anatomy_based_rwd(cluster)\n",
    "print(f\"Reward: {reward}\")\n",
    "plt.show()"
   ]
  },
  {
   "cell_type": "code",
   "execution_count": null,
   "id": "ede101a8010b0bd5",
   "metadata": {},
   "outputs": [],
   "source": []
  }
 ],
 "metadata": {
  "kernelspec": {
   "display_name": "Python 3",
   "language": "python",
   "name": "python3"
  },
  "language_info": {
   "codemirror_mode": {
    "name": "ipython",
    "version": 2
   },
   "file_extension": ".py",
   "mimetype": "text/x-python",
   "name": "python",
   "nbconvert_exporter": "python",
   "pygments_lexer": "ipython2",
   "version": "2.7.6"
  }
 },
 "nbformat": 4,
 "nbformat_minor": 5
}
